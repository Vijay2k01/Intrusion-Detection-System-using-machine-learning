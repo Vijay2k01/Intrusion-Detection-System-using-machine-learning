{
  "nbformat": 4,
  "nbformat_minor": 0,
  "metadata": {
    "colab": {
      "name": "Intrusion detection System.ipynb",
      "provenance": []
    },
    "kernelspec": {
      "name": "python3",
      "display_name": "Python 3"
    },
    "language_info": {
      "name": "python"
    }
  },
  "cells": [
    {
      "cell_type": "markdown",
      "metadata": {
        "id": "MhEhJSNChP-z"
      },
      "source": [
        "# ***INTRUSION DETECTION SYSTEM***"
      ]
    },
    {
      "cell_type": "code",
      "metadata": {
        "id": "wAW2UJYo7vd3"
      },
      "source": [
        "\n",
        "import os\n",
        "import pandas as pd\n",
        "import numpy as np\n",
        "import matplotlib.pyplot as plt\n",
        "import seaborn as sns\n",
        "import time"
      ],
      "execution_count": 10,
      "outputs": []
    },
    {
      "cell_type": "code",
      "metadata": {
        "id": "ZSsvuK-J7zo5",
        "colab": {
          "base_uri": "https://localhost:8080/"
        },
        "outputId": "da911d0b-0bf0-48a3-b71c-af396baea2a4"
      },
      "source": [
        "with open(\"/content/kddcup.names\",'r') as f:\n",
        "    print(f.read())"
      ],
      "execution_count": 11,
      "outputs": [
        {
          "output_type": "stream",
          "text": [
            "back,buffer_overflow,ftp_write,guess_passwd,imap,ipsweep,land,loadmodule,multihop,neptune,nmap,normal,perl,phf,pod,portsweep,rootkit,satan,smurf,spy,teardrop,warezclient,warezmaster.\n",
            "duration: continuous.\n",
            "protocol_type: symbolic.\n",
            "service: symbolic.\n",
            "flag: symbolic.\n",
            "src_bytes: continuous.\n",
            "dst_bytes: continuous.\n",
            "land: symbolic.\n",
            "wrong_fragment: continuous.\n",
            "urgent: continuous.\n",
            "hot: continuous.\n",
            "num_failed_logins: continuous.\n",
            "logged_in: symbolic.\n",
            "num_compromised: continuous.\n",
            "root_shell: continuous.\n",
            "su_attempted: continuous.\n",
            "num_root: continuous.\n",
            "num_file_creations: continuous.\n",
            "num_shells: continuous.\n",
            "num_access_files: continuous.\n",
            "num_outbound_cmds: continuous.\n",
            "is_host_login: symbolic.\n",
            "is_guest_login: symbolic.\n",
            "count: continuous.\n",
            "srv_count: continuous.\n",
            "serror_rate: continuous.\n",
            "srv_serror_rate: continuous.\n",
            "rerror_rate: continuous.\n",
            "srv_rerror_rate: continuous.\n",
            "same_srv_rate: continuous.\n",
            "diff_srv_rate: continuous.\n",
            "srv_diff_host_rate: continuous.\n",
            "dst_host_count: continuous.\n",
            "dst_host_srv_count: continuous.\n",
            "dst_host_same_srv_rate: continuous.\n",
            "dst_host_diff_srv_rate: continuous.\n",
            "dst_host_same_src_port_rate: continuous.\n",
            "dst_host_srv_diff_host_rate: continuous.\n",
            "dst_host_serror_rate: continuous.\n",
            "dst_host_srv_serror_rate: continuous.\n",
            "dst_host_rerror_rate: continuous.\n",
            "dst_host_srv_rerror_rate: continuous.\n",
            "\n"
          ],
          "name": "stdout"
        }
      ]
    },
    {
      "cell_type": "code",
      "metadata": {
        "colab": {
          "base_uri": "https://localhost:8080/"
        },
        "id": "koMN3N0f8DeD",
        "outputId": "552bc33b-3e2c-4f8e-beef-735ed54e56b7"
      },
      "source": [
        "cols=\"\"\"duration,\n",
        "protocol_type,\n",
        "service,\n",
        "flag,\n",
        "src_bytes,\n",
        "dst_bytes,\n",
        "land,\n",
        "wrong_fragment,\n",
        "urgent,\n",
        "hot,\n",
        "num_failed_logins,\n",
        "logged_in,\n",
        "num_compromised,\n",
        "root_shell,\n",
        "su_attempted,\n",
        "num_root,\n",
        "num_file_creations,\n",
        "num_shells,\n",
        "num_access_files,\n",
        "num_outbound_cmds,\n",
        "is_host_login,\n",
        "is_guest_login,\n",
        "count,\n",
        "srv_count,\n",
        "serror_rate,\n",
        "srv_serror_rate,\n",
        "rerror_rate,\n",
        "srv_rerror_rate,\n",
        "same_srv_rate,\n",
        "diff_srv_rate,\n",
        "srv_diff_host_rate,\n",
        "dst_host_count,\n",
        "dst_host_srv_count,\n",
        "dst_host_same_srv_rate,\n",
        "dst_host_diff_srv_rate,\n",
        "dst_host_same_src_port_rate,\n",
        "dst_host_srv_diff_host_rate,\n",
        "dst_host_serror_rate,\n",
        "dst_host_srv_serror_rate,\n",
        "dst_host_rerror_rate,\n",
        "dst_host_srv_rerror_rate\"\"\"\n",
        "columns=[]\n",
        "for c in cols.split(','):\n",
        "    if(c.strip()):\n",
        "       columns.append(c.strip())\n",
        "\n",
        "columns.append('target')\n",
        "#print(columns)\n",
        "print(len(columns))"
      ],
      "execution_count": 12,
      "outputs": [
        {
          "output_type": "stream",
          "text": [
            "42\n"
          ],
          "name": "stdout"
        }
      ]
    },
    {
      "cell_type": "code",
      "metadata": {
        "id": "C4lSFHaX8NfC",
        "colab": {
          "base_uri": "https://localhost:8080/"
        },
        "outputId": "61fbf588-287d-49da-ddbe-f8d75d4cdfbc"
      },
      "source": [
        "with open(\"/content/training_attack_types\",'r') as f:\n",
        "    print(f.read())"
      ],
      "execution_count": 13,
      "outputs": [
        {
          "output_type": "stream",
          "text": [
            "back dos\n",
            "buffer_overflow u2r\n",
            "ftp_write r2l\n",
            "guess_passwd r2l\n",
            "imap r2l\n",
            "ipsweep probe\n",
            "land dos\n",
            "loadmodule u2r\n",
            "multihop r2l\n",
            "neptune dos\n",
            "nmap probe\n",
            "perl u2r\n",
            "phf r2l\n",
            "pod dos\n",
            "portsweep probe\n",
            "rootkit u2r\n",
            "satan probe\n",
            "smurf dos\n",
            "spy r2l\n",
            "teardrop dos\n",
            "warezclient r2l\n",
            "warezmaster r2l\n",
            "\n",
            "\n"
          ],
          "name": "stdout"
        }
      ]
    },
    {
      "cell_type": "code",
      "metadata": {
        "id": "ChwZOpVt8dnC"
      },
      "source": [
        "attacks_types = {\n",
        "    'normal': 'normal',\n",
        "'back': 'dos',\n",
        "'buffer_overflow': 'u2r',\n",
        "'ftp_write': 'r2l',\n",
        "'guess_passwd': 'r2l',\n",
        "'imap': 'r2l',\n",
        "'ipsweep': 'probe',\n",
        "'land': 'dos',\n",
        "'loadmodule': 'u2r',\n",
        "'multihop': 'r2l',\n",
        "'neptune': 'dos',\n",
        "'nmap': 'probe',\n",
        "'perl': 'u2r',\n",
        "'phf': 'r2l',\n",
        "'pod': 'dos',\n",
        "'portsweep': 'probe',\n",
        "'rootkit': 'u2r',\n",
        "'satan': 'probe',\n",
        "'smurf': 'dos',\n",
        "'spy': 'r2l',\n",
        "'teardrop': 'dos',\n",
        "'warezclient': 'r2l',\n",
        "'warezmaster': 'r2l',\n",
        "}"
      ],
      "execution_count": 14,
      "outputs": []
    },
    {
      "cell_type": "markdown",
      "metadata": {
        "id": "5Fxn_CiVNVyo"
      },
      "source": [
        "**READING DATASET**"
      ]
    },
    {
      "cell_type": "code",
      "metadata": {
        "id": "fSlyjgkS8e6C",
        "colab": {
          "base_uri": "https://localhost:8080/",
          "height": 231
        },
        "outputId": "cf7db14f-a7ca-43ee-9f51-94acdba02ce2"
      },
      "source": [
        "path = \"/content/kddcup.data_10_percent.gz\"\n",
        "df = pd.read_csv(path,names=columns)\n",
        "\n",
        "#Adding Attack Type column\n",
        "df['Attack Type'] = df.target.apply(lambda r:attacks_types[r[:-1]])\n",
        "\n",
        "df.head()\n"
      ],
      "execution_count": 15,
      "outputs": [
        {
          "output_type": "execute_result",
          "data": {
            "text/html": [
              "<div>\n",
              "<style scoped>\n",
              "    .dataframe tbody tr th:only-of-type {\n",
              "        vertical-align: middle;\n",
              "    }\n",
              "\n",
              "    .dataframe tbody tr th {\n",
              "        vertical-align: top;\n",
              "    }\n",
              "\n",
              "    .dataframe thead th {\n",
              "        text-align: right;\n",
              "    }\n",
              "</style>\n",
              "<table border=\"1\" class=\"dataframe\">\n",
              "  <thead>\n",
              "    <tr style=\"text-align: right;\">\n",
              "      <th></th>\n",
              "      <th>duration</th>\n",
              "      <th>protocol_type</th>\n",
              "      <th>service</th>\n",
              "      <th>flag</th>\n",
              "      <th>src_bytes</th>\n",
              "      <th>dst_bytes</th>\n",
              "      <th>land</th>\n",
              "      <th>wrong_fragment</th>\n",
              "      <th>urgent</th>\n",
              "      <th>hot</th>\n",
              "      <th>num_failed_logins</th>\n",
              "      <th>logged_in</th>\n",
              "      <th>num_compromised</th>\n",
              "      <th>root_shell</th>\n",
              "      <th>su_attempted</th>\n",
              "      <th>num_root</th>\n",
              "      <th>num_file_creations</th>\n",
              "      <th>num_shells</th>\n",
              "      <th>num_access_files</th>\n",
              "      <th>num_outbound_cmds</th>\n",
              "      <th>is_host_login</th>\n",
              "      <th>is_guest_login</th>\n",
              "      <th>count</th>\n",
              "      <th>srv_count</th>\n",
              "      <th>serror_rate</th>\n",
              "      <th>srv_serror_rate</th>\n",
              "      <th>rerror_rate</th>\n",
              "      <th>srv_rerror_rate</th>\n",
              "      <th>same_srv_rate</th>\n",
              "      <th>diff_srv_rate</th>\n",
              "      <th>srv_diff_host_rate</th>\n",
              "      <th>dst_host_count</th>\n",
              "      <th>dst_host_srv_count</th>\n",
              "      <th>dst_host_same_srv_rate</th>\n",
              "      <th>dst_host_diff_srv_rate</th>\n",
              "      <th>dst_host_same_src_port_rate</th>\n",
              "      <th>dst_host_srv_diff_host_rate</th>\n",
              "      <th>dst_host_serror_rate</th>\n",
              "      <th>dst_host_srv_serror_rate</th>\n",
              "      <th>dst_host_rerror_rate</th>\n",
              "      <th>dst_host_srv_rerror_rate</th>\n",
              "      <th>target</th>\n",
              "      <th>Attack Type</th>\n",
              "    </tr>\n",
              "  </thead>\n",
              "  <tbody>\n",
              "    <tr>\n",
              "      <th>0</th>\n",
              "      <td>0</td>\n",
              "      <td>tcp</td>\n",
              "      <td>http</td>\n",
              "      <td>SF</td>\n",
              "      <td>181</td>\n",
              "      <td>5450</td>\n",
              "      <td>0</td>\n",
              "      <td>0</td>\n",
              "      <td>0</td>\n",
              "      <td>0</td>\n",
              "      <td>0</td>\n",
              "      <td>1</td>\n",
              "      <td>0</td>\n",
              "      <td>0</td>\n",
              "      <td>0</td>\n",
              "      <td>0</td>\n",
              "      <td>0</td>\n",
              "      <td>0</td>\n",
              "      <td>0</td>\n",
              "      <td>0</td>\n",
              "      <td>0</td>\n",
              "      <td>0</td>\n",
              "      <td>8</td>\n",
              "      <td>8</td>\n",
              "      <td>0.0</td>\n",
              "      <td>0.0</td>\n",
              "      <td>0.0</td>\n",
              "      <td>0.0</td>\n",
              "      <td>1.0</td>\n",
              "      <td>0.0</td>\n",
              "      <td>0.0</td>\n",
              "      <td>9</td>\n",
              "      <td>9</td>\n",
              "      <td>1.0</td>\n",
              "      <td>0.0</td>\n",
              "      <td>0.11</td>\n",
              "      <td>0.0</td>\n",
              "      <td>0.0</td>\n",
              "      <td>0.0</td>\n",
              "      <td>0.0</td>\n",
              "      <td>0.0</td>\n",
              "      <td>normal.</td>\n",
              "      <td>normal</td>\n",
              "    </tr>\n",
              "    <tr>\n",
              "      <th>1</th>\n",
              "      <td>0</td>\n",
              "      <td>tcp</td>\n",
              "      <td>http</td>\n",
              "      <td>SF</td>\n",
              "      <td>239</td>\n",
              "      <td>486</td>\n",
              "      <td>0</td>\n",
              "      <td>0</td>\n",
              "      <td>0</td>\n",
              "      <td>0</td>\n",
              "      <td>0</td>\n",
              "      <td>1</td>\n",
              "      <td>0</td>\n",
              "      <td>0</td>\n",
              "      <td>0</td>\n",
              "      <td>0</td>\n",
              "      <td>0</td>\n",
              "      <td>0</td>\n",
              "      <td>0</td>\n",
              "      <td>0</td>\n",
              "      <td>0</td>\n",
              "      <td>0</td>\n",
              "      <td>8</td>\n",
              "      <td>8</td>\n",
              "      <td>0.0</td>\n",
              "      <td>0.0</td>\n",
              "      <td>0.0</td>\n",
              "      <td>0.0</td>\n",
              "      <td>1.0</td>\n",
              "      <td>0.0</td>\n",
              "      <td>0.0</td>\n",
              "      <td>19</td>\n",
              "      <td>19</td>\n",
              "      <td>1.0</td>\n",
              "      <td>0.0</td>\n",
              "      <td>0.05</td>\n",
              "      <td>0.0</td>\n",
              "      <td>0.0</td>\n",
              "      <td>0.0</td>\n",
              "      <td>0.0</td>\n",
              "      <td>0.0</td>\n",
              "      <td>normal.</td>\n",
              "      <td>normal</td>\n",
              "    </tr>\n",
              "    <tr>\n",
              "      <th>2</th>\n",
              "      <td>0</td>\n",
              "      <td>tcp</td>\n",
              "      <td>http</td>\n",
              "      <td>SF</td>\n",
              "      <td>235</td>\n",
              "      <td>1337</td>\n",
              "      <td>0</td>\n",
              "      <td>0</td>\n",
              "      <td>0</td>\n",
              "      <td>0</td>\n",
              "      <td>0</td>\n",
              "      <td>1</td>\n",
              "      <td>0</td>\n",
              "      <td>0</td>\n",
              "      <td>0</td>\n",
              "      <td>0</td>\n",
              "      <td>0</td>\n",
              "      <td>0</td>\n",
              "      <td>0</td>\n",
              "      <td>0</td>\n",
              "      <td>0</td>\n",
              "      <td>0</td>\n",
              "      <td>8</td>\n",
              "      <td>8</td>\n",
              "      <td>0.0</td>\n",
              "      <td>0.0</td>\n",
              "      <td>0.0</td>\n",
              "      <td>0.0</td>\n",
              "      <td>1.0</td>\n",
              "      <td>0.0</td>\n",
              "      <td>0.0</td>\n",
              "      <td>29</td>\n",
              "      <td>29</td>\n",
              "      <td>1.0</td>\n",
              "      <td>0.0</td>\n",
              "      <td>0.03</td>\n",
              "      <td>0.0</td>\n",
              "      <td>0.0</td>\n",
              "      <td>0.0</td>\n",
              "      <td>0.0</td>\n",
              "      <td>0.0</td>\n",
              "      <td>normal.</td>\n",
              "      <td>normal</td>\n",
              "    </tr>\n",
              "    <tr>\n",
              "      <th>3</th>\n",
              "      <td>0</td>\n",
              "      <td>tcp</td>\n",
              "      <td>http</td>\n",
              "      <td>SF</td>\n",
              "      <td>219</td>\n",
              "      <td>1337</td>\n",
              "      <td>0</td>\n",
              "      <td>0</td>\n",
              "      <td>0</td>\n",
              "      <td>0</td>\n",
              "      <td>0</td>\n",
              "      <td>1</td>\n",
              "      <td>0</td>\n",
              "      <td>0</td>\n",
              "      <td>0</td>\n",
              "      <td>0</td>\n",
              "      <td>0</td>\n",
              "      <td>0</td>\n",
              "      <td>0</td>\n",
              "      <td>0</td>\n",
              "      <td>0</td>\n",
              "      <td>0</td>\n",
              "      <td>6</td>\n",
              "      <td>6</td>\n",
              "      <td>0.0</td>\n",
              "      <td>0.0</td>\n",
              "      <td>0.0</td>\n",
              "      <td>0.0</td>\n",
              "      <td>1.0</td>\n",
              "      <td>0.0</td>\n",
              "      <td>0.0</td>\n",
              "      <td>39</td>\n",
              "      <td>39</td>\n",
              "      <td>1.0</td>\n",
              "      <td>0.0</td>\n",
              "      <td>0.03</td>\n",
              "      <td>0.0</td>\n",
              "      <td>0.0</td>\n",
              "      <td>0.0</td>\n",
              "      <td>0.0</td>\n",
              "      <td>0.0</td>\n",
              "      <td>normal.</td>\n",
              "      <td>normal</td>\n",
              "    </tr>\n",
              "    <tr>\n",
              "      <th>4</th>\n",
              "      <td>0</td>\n",
              "      <td>tcp</td>\n",
              "      <td>http</td>\n",
              "      <td>SF</td>\n",
              "      <td>217</td>\n",
              "      <td>2032</td>\n",
              "      <td>0</td>\n",
              "      <td>0</td>\n",
              "      <td>0</td>\n",
              "      <td>0</td>\n",
              "      <td>0</td>\n",
              "      <td>1</td>\n",
              "      <td>0</td>\n",
              "      <td>0</td>\n",
              "      <td>0</td>\n",
              "      <td>0</td>\n",
              "      <td>0</td>\n",
              "      <td>0</td>\n",
              "      <td>0</td>\n",
              "      <td>0</td>\n",
              "      <td>0</td>\n",
              "      <td>0</td>\n",
              "      <td>6</td>\n",
              "      <td>6</td>\n",
              "      <td>0.0</td>\n",
              "      <td>0.0</td>\n",
              "      <td>0.0</td>\n",
              "      <td>0.0</td>\n",
              "      <td>1.0</td>\n",
              "      <td>0.0</td>\n",
              "      <td>0.0</td>\n",
              "      <td>49</td>\n",
              "      <td>49</td>\n",
              "      <td>1.0</td>\n",
              "      <td>0.0</td>\n",
              "      <td>0.02</td>\n",
              "      <td>0.0</td>\n",
              "      <td>0.0</td>\n",
              "      <td>0.0</td>\n",
              "      <td>0.0</td>\n",
              "      <td>0.0</td>\n",
              "      <td>normal.</td>\n",
              "      <td>normal</td>\n",
              "    </tr>\n",
              "  </tbody>\n",
              "</table>\n",
              "</div>"
            ],
            "text/plain": [
              "   duration protocol_type  ...   target Attack Type\n",
              "0         0           tcp  ...  normal.      normal\n",
              "1         0           tcp  ...  normal.      normal\n",
              "2         0           tcp  ...  normal.      normal\n",
              "3         0           tcp  ...  normal.      normal\n",
              "4         0           tcp  ...  normal.      normal\n",
              "\n",
              "[5 rows x 43 columns]"
            ]
          },
          "metadata": {
            "tags": []
          },
          "execution_count": 15
        }
      ]
    },
    {
      "cell_type": "code",
      "metadata": {
        "colab": {
          "base_uri": "https://localhost:8080/"
        },
        "id": "gSb3ct3T8vob",
        "outputId": "0b87ad9e-297d-410a-a857-b7d1dd3fe248"
      },
      "source": [
        "df.shape"
      ],
      "execution_count": 16,
      "outputs": [
        {
          "output_type": "execute_result",
          "data": {
            "text/plain": [
              "(494021, 43)"
            ]
          },
          "metadata": {
            "tags": []
          },
          "execution_count": 16
        }
      ]
    },
    {
      "cell_type": "code",
      "metadata": {
        "id": "xEfdLHjf8y3t",
        "colab": {
          "base_uri": "https://localhost:8080/"
        },
        "outputId": "7a912141-551f-418f-c153-5e28255249d6"
      },
      "source": [
        "df['target'].value_counts()"
      ],
      "execution_count": 17,
      "outputs": [
        {
          "output_type": "execute_result",
          "data": {
            "text/plain": [
              "smurf.              280790\n",
              "neptune.            107201\n",
              "normal.              97278\n",
              "back.                 2203\n",
              "satan.                1589\n",
              "ipsweep.              1247\n",
              "portsweep.            1040\n",
              "warezclient.          1020\n",
              "teardrop.              979\n",
              "pod.                   264\n",
              "nmap.                  231\n",
              "guess_passwd.           53\n",
              "buffer_overflow.        30\n",
              "land.                   21\n",
              "warezmaster.            20\n",
              "imap.                   12\n",
              "rootkit.                10\n",
              "loadmodule.              9\n",
              "ftp_write.               8\n",
              "multihop.                7\n",
              "phf.                     4\n",
              "perl.                    3\n",
              "spy.                     2\n",
              "Name: target, dtype: int64"
            ]
          },
          "metadata": {
            "tags": []
          },
          "execution_count": 17
        }
      ]
    },
    {
      "cell_type": "code",
      "metadata": {
        "colab": {
          "base_uri": "https://localhost:8080/"
        },
        "id": "dQOKKq2s8244",
        "outputId": "baeaefad-011f-4050-805a-8e1fcf97eb04"
      },
      "source": [
        "df['Attack Type'].value_counts()"
      ],
      "execution_count": 18,
      "outputs": [
        {
          "output_type": "execute_result",
          "data": {
            "text/plain": [
              "dos       391458\n",
              "normal     97278\n",
              "probe       4107\n",
              "r2l         1126\n",
              "u2r           52\n",
              "Name: Attack Type, dtype: int64"
            ]
          },
          "metadata": {
            "tags": []
          },
          "execution_count": 18
        }
      ]
    },
    {
      "cell_type": "code",
      "metadata": {
        "id": "Gec8R2tg85SW",
        "colab": {
          "base_uri": "https://localhost:8080/"
        },
        "outputId": "50933820-fadf-4933-d0c0-3ae6bca0e4ea"
      },
      "source": [
        "df.dtypes"
      ],
      "execution_count": 19,
      "outputs": [
        {
          "output_type": "execute_result",
          "data": {
            "text/plain": [
              "duration                         int64\n",
              "protocol_type                   object\n",
              "service                         object\n",
              "flag                            object\n",
              "src_bytes                        int64\n",
              "dst_bytes                        int64\n",
              "land                             int64\n",
              "wrong_fragment                   int64\n",
              "urgent                           int64\n",
              "hot                              int64\n",
              "num_failed_logins                int64\n",
              "logged_in                        int64\n",
              "num_compromised                  int64\n",
              "root_shell                       int64\n",
              "su_attempted                     int64\n",
              "num_root                         int64\n",
              "num_file_creations               int64\n",
              "num_shells                       int64\n",
              "num_access_files                 int64\n",
              "num_outbound_cmds                int64\n",
              "is_host_login                    int64\n",
              "is_guest_login                   int64\n",
              "count                            int64\n",
              "srv_count                        int64\n",
              "serror_rate                    float64\n",
              "srv_serror_rate                float64\n",
              "rerror_rate                    float64\n",
              "srv_rerror_rate                float64\n",
              "same_srv_rate                  float64\n",
              "diff_srv_rate                  float64\n",
              "srv_diff_host_rate             float64\n",
              "dst_host_count                   int64\n",
              "dst_host_srv_count               int64\n",
              "dst_host_same_srv_rate         float64\n",
              "dst_host_diff_srv_rate         float64\n",
              "dst_host_same_src_port_rate    float64\n",
              "dst_host_srv_diff_host_rate    float64\n",
              "dst_host_serror_rate           float64\n",
              "dst_host_srv_serror_rate       float64\n",
              "dst_host_rerror_rate           float64\n",
              "dst_host_srv_rerror_rate       float64\n",
              "target                          object\n",
              "Attack Type                     object\n",
              "dtype: object"
            ]
          },
          "metadata": {
            "tags": []
          },
          "execution_count": 19
        }
      ]
    },
    {
      "cell_type": "markdown",
      "metadata": {
        "id": "9n3c8LgUNnAA"
      },
      "source": [
        "**DATA PREPROCESSING**"
      ]
    },
    {
      "cell_type": "code",
      "metadata": {
        "id": "oM2-VzNC88pd",
        "colab": {
          "base_uri": "https://localhost:8080/"
        },
        "outputId": "ef2711be-abca-4938-fca0-e77162031aa7"
      },
      "source": [
        "df.isnull().sum()"
      ],
      "execution_count": 20,
      "outputs": [
        {
          "output_type": "execute_result",
          "data": {
            "text/plain": [
              "duration                       0\n",
              "protocol_type                  0\n",
              "service                        0\n",
              "flag                           0\n",
              "src_bytes                      0\n",
              "dst_bytes                      0\n",
              "land                           0\n",
              "wrong_fragment                 0\n",
              "urgent                         0\n",
              "hot                            0\n",
              "num_failed_logins              0\n",
              "logged_in                      0\n",
              "num_compromised                0\n",
              "root_shell                     0\n",
              "su_attempted                   0\n",
              "num_root                       0\n",
              "num_file_creations             0\n",
              "num_shells                     0\n",
              "num_access_files               0\n",
              "num_outbound_cmds              0\n",
              "is_host_login                  0\n",
              "is_guest_login                 0\n",
              "count                          0\n",
              "srv_count                      0\n",
              "serror_rate                    0\n",
              "srv_serror_rate                0\n",
              "rerror_rate                    0\n",
              "srv_rerror_rate                0\n",
              "same_srv_rate                  0\n",
              "diff_srv_rate                  0\n",
              "srv_diff_host_rate             0\n",
              "dst_host_count                 0\n",
              "dst_host_srv_count             0\n",
              "dst_host_same_srv_rate         0\n",
              "dst_host_diff_srv_rate         0\n",
              "dst_host_same_src_port_rate    0\n",
              "dst_host_srv_diff_host_rate    0\n",
              "dst_host_serror_rate           0\n",
              "dst_host_srv_serror_rate       0\n",
              "dst_host_rerror_rate           0\n",
              "dst_host_srv_rerror_rate       0\n",
              "target                         0\n",
              "Attack Type                    0\n",
              "dtype: int64"
            ]
          },
          "metadata": {
            "tags": []
          },
          "execution_count": 20
        }
      ]
    },
    {
      "cell_type": "markdown",
      "metadata": {
        "id": "vdK6uXDeNux4"
      },
      "source": [
        "**FINDING CATEGORIAL FEATURES**"
      ]
    },
    {
      "cell_type": "code",
      "metadata": {
        "id": "P5jcj82r9Crw",
        "colab": {
          "base_uri": "https://localhost:8080/"
        },
        "outputId": "6ab75f18-d808-4ec1-cc90-f53f9079f6ef"
      },
      "source": [
        "num_cols = df._get_numeric_data().columns\n",
        "\n",
        "cate_cols = list(set(df.columns)-set(num_cols))\n",
        "cate_cols.remove('target')\n",
        "cate_cols.remove('Attack Type')\n",
        "\n",
        "cate_cols"
      ],
      "execution_count": 21,
      "outputs": [
        {
          "output_type": "execute_result",
          "data": {
            "text/plain": [
              "['flag', 'service', 'protocol_type']"
            ]
          },
          "metadata": {
            "tags": []
          },
          "execution_count": 21
        }
      ]
    },
    {
      "cell_type": "markdown",
      "metadata": {
        "id": "MGzpRhzhN1Nv"
      },
      "source": [
        "**CATEGORICAL FEATURES DISTRIBUTION {VISUALIZATION}**"
      ]
    },
    {
      "cell_type": "code",
      "metadata": {
        "id": "g5HkzVqs9FTw"
      },
      "source": [
        "def bar_graph(feature):\n",
        "    df[feature].value_counts().plot(kind=\"bar\",color=[\"black\",\"orange\",\"pink\",\"green\"])"
      ],
      "execution_count": 24,
      "outputs": []
    },
    {
      "cell_type": "code",
      "metadata": {
        "id": "9e789tNv9Ioa",
        "colab": {
          "base_uri": "https://localhost:8080/",
          "height": 280
        },
        "outputId": "08cca016-aa2a-4e7d-c2d5-c1bf43f0fd6f"
      },
      "source": [
        "bar_graph('protocol_type')"
      ],
      "execution_count": 25,
      "outputs": [
        {
          "output_type": "display_data",
          "data": {
            "image/png": "[encoded data removed]",
            "text/plain": [
              "<Figure size 432x288 with 1 Axes>"
            ]
          },
          "metadata": {
            "tags": [],
            "needs_background": "light"
          }
        }
      ]
    },
    {
      "cell_type": "markdown",
      "metadata": {
        "id": "2E5eO1OfOUjt"
      },
      "source": [
        "Protocol type: We notice that ICMP is the most present in the used data, then TCP and almost 20000 packets of UDP type"
      ]
    },
    {
      "cell_type": "code",
      "metadata": {
        "id": "Mq5S7nl59QjV",
        "colab": {
          "base_uri": "https://localhost:8080/",
          "height": 220
        },
        "outputId": "27bacad8-258e-44f6-d73a-feb333a0a333"
      },
      "source": [
        "plt.figure(figsize=(15,3))\n",
        "bar_graph('service')"
      ],
      "execution_count": 26,
      "outputs": [
        {
          "output_type": "display_data",
          "data": {
            "image/png": "[encoded data removed]",
            "text/plain": [
              "<Figure size 1080x216 with 1 Axes>"
            ]
          },
          "metadata": {
            "tags": [],
            "needs_background": "light"
          }
        }
      ]
    },
    {
      "cell_type": "code",
      "metadata": {
        "id": "a2ogzKPP9V73",
        "colab": {
          "base_uri": "https://localhost:8080/",
          "height": 295
        },
        "outputId": "648207c9-a6e5-4ca0-e7d4-764f60c396f4"
      },
      "source": [
        "bar_graph('flag')"
      ],
      "execution_count": 27,
      "outputs": [
        {
          "output_type": "display_data",
          "data": {
            "image/png": "[encoded data removed]",
            "text/plain": [
              "<Figure size 432x288 with 1 Axes>"
            ]
          },
          "metadata": {
            "tags": [],
            "needs_background": "light"
          }
        }
      ]
    },
    {
      "cell_type": "code",
      "metadata": {
        "id": "sHxdZNK49ao_",
        "colab": {
          "base_uri": "https://localhost:8080/",
          "height": 262
        },
        "outputId": "c0d5bf7a-407f-4b26-e557-a5b1272e6591"
      },
      "source": [
        "bar_graph('logged_in')"
      ],
      "execution_count": 28,
      "outputs": [
        {
          "output_type": "display_data",
          "data": {
            "image/png": "[encoded data removed]",
            "text/plain": [
              "<Figure size 432x288 with 1 Axes>"
            ]
          },
          "metadata": {
            "tags": [],
            "needs_background": "light"
          }
        }
      ]
    },
    {
      "cell_type": "markdown",
      "metadata": {
        "id": "HEJ4oCkIObUw"
      },
      "source": [
        "logged_in (1 if successfully logged in; 0 otherwise): We notice that just 70000 packets are successfully logged in."
      ]
    },
    {
      "cell_type": "markdown",
      "metadata": {
        "id": "56k3EG6YOepi"
      },
      "source": [
        "**TARGET FEATURE DISTRIBUTION**"
      ]
    },
    {
      "cell_type": "code",
      "metadata": {
        "colab": {
          "base_uri": "https://localhost:8080/",
          "height": 336
        },
        "id": "itS-zSIw9dRD",
        "outputId": "8f1338a5-cc73-48b1-a67a-42105f789d1b"
      },
      "source": [
        "bar_graph('target')"
      ],
      "execution_count": null,
      "outputs": [
        {
          "output_type": "display_data",
          "data": {
            "image/png": "[encoded data removed]",
            "text/plain": [
              "<Figure size 432x288 with 1 Axes>"
            ]
          },
          "metadata": {
            "tags": [],
            "needs_background": "light"
          }
        }
      ]
    },
    {
      "cell_type": "markdown",
      "metadata": {
        "id": "COaNM0ioOksU"
      },
      "source": [
        "Attack Type(The attack types grouped by attack, it's what we will predict)"
      ]
    },
    {
      "cell_type": "code",
      "metadata": {
        "colab": {
          "base_uri": "https://localhost:8080/",
          "height": 290
        },
        "id": "BNxExDUg9fyO",
        "outputId": "40d4e68d-93f8-445d-984f-fa53c26ba56a"
      },
      "source": [
        "bar_graph('Attack Type')"
      ],
      "execution_count": 29,
      "outputs": [
        {
          "output_type": "display_data",
          "data": {
            "image/png": "[encoded data removed]",
            "text/plain": [
              "<Figure size 432x288 with 1 Axes>"
            ]
          },
          "metadata": {
            "tags": [],
            "needs_background": "light"
          }
        }
      ]
    },
    {
      "cell_type": "code",
      "metadata": {
        "colab": {
          "base_uri": "https://localhost:8080/"
        },
        "id": "3CxD3Eys9iEp",
        "outputId": "7c9962f6-b790-484e-a416-59b2326e6410"
      },
      "source": [
        "df.columns"
      ],
      "execution_count": 30,
      "outputs": [
        {
          "output_type": "execute_result",
          "data": {
            "text/plain": [
              "Index(['duration', 'protocol_type', 'service', 'flag', 'src_bytes',\n",
              "       'dst_bytes', 'land', 'wrong_fragment', 'urgent', 'hot',\n",
              "       'num_failed_logins', 'logged_in', 'num_compromised', 'root_shell',\n",
              "       'su_attempted', 'num_root', 'num_file_creations', 'num_shells',\n",
              "       'num_access_files', 'num_outbound_cmds', 'is_host_login',\n",
              "       'is_guest_login', 'count', 'srv_count', 'serror_rate',\n",
              "       'srv_serror_rate', 'rerror_rate', 'srv_rerror_rate', 'same_srv_rate',\n",
              "       'diff_srv_rate', 'srv_diff_host_rate', 'dst_host_count',\n",
              "       'dst_host_srv_count', 'dst_host_same_srv_rate',\n",
              "       'dst_host_diff_srv_rate', 'dst_host_same_src_port_rate',\n",
              "       'dst_host_srv_diff_host_rate', 'dst_host_serror_rate',\n",
              "       'dst_host_srv_serror_rate', 'dst_host_rerror_rate',\n",
              "       'dst_host_srv_rerror_rate', 'target', 'Attack Type'],\n",
              "      dtype='object')"
            ]
          },
          "metadata": {
            "tags": []
          },
          "execution_count": 30
        }
      ]
    },
    {
      "cell_type": "markdown",
      "metadata": {
        "id": "MTu6Rtr7OsJw"
      },
      "source": [
        "**DATA CORRELATION**"
      ]
    },
    {
      "cell_type": "code",
      "metadata": {
        "id": "VezQNbfm9l6G",
        "colab": {
          "base_uri": "https://localhost:8080/",
          "height": 652
        },
        "outputId": "29517e69-2b36-4c86-8419-ea0a51fe27d0"
      },
      "source": [
        "df = df.dropna('columns')# drop columns with NaN\n",
        "\n",
        "df = df[[col for col in df if df[col].nunique() > 1]]# keep columns where there are more than 1 unique values\n",
        "\n",
        "corr = df.corr()\n",
        "\n",
        "plt.figure(figsize=(15,12))\n",
        "\n",
        "sns.heatmap(corr,cmap=\"Blues\")\n",
        "\n",
        "plt.show()"
      ],
      "execution_count": 31,
      "outputs": [
        {
          "output_type": "display_data",
          "data": {
            "image/png": "[encoded data removed]",
            "text/plain": [
              "<Figure size 1080x864 with 2 Axes>"
            ]
          },
          "metadata": {
            "tags": [],
            "needs_background": "light"
          }
        }
      ]
    },
    {
      "cell_type": "code",
      "metadata": {
        "colab": {
          "base_uri": "https://localhost:8080/"
        },
        "id": "mWd6RmtyAhoY",
        "outputId": "ec97d885-f8ad-4734-8a5e-044241705627"
      },
      "source": [
        "df['num_root'].corr(df['num_compromised'])"
      ],
      "execution_count": 32,
      "outputs": [
        {
          "output_type": "execute_result",
          "data": {
            "text/plain": [
              "0.9938277978737916"
            ]
          },
          "metadata": {
            "tags": []
          },
          "execution_count": 32
        }
      ]
    },
    {
      "cell_type": "code",
      "metadata": {
        "colab": {
          "base_uri": "https://localhost:8080/"
        },
        "id": "0X4L94ecAmPw",
        "outputId": "5b1ae1dd-ad40-4991-f968-4b8dc76abea0"
      },
      "source": [
        "df['srv_serror_rate'].corr(df['serror_rate'])"
      ],
      "execution_count": 33,
      "outputs": [
        {
          "output_type": "execute_result",
          "data": {
            "text/plain": [
              "0.998361507272553"
            ]
          },
          "metadata": {
            "tags": []
          },
          "execution_count": 33
        }
      ]
    },
    {
      "cell_type": "code",
      "metadata": {
        "colab": {
          "base_uri": "https://localhost:8080/"
        },
        "id": "XV7w3pmsAnzc",
        "outputId": "bc285428-6ab6-4b55-8886-1d9740521f12"
      },
      "source": [
        "df['srv_count'].corr(df['count'])"
      ],
      "execution_count": 34,
      "outputs": [
        {
          "output_type": "execute_result",
          "data": {
            "text/plain": [
              "0.9436670688882645"
            ]
          },
          "metadata": {
            "tags": []
          },
          "execution_count": 34
        }
      ]
    },
    {
      "cell_type": "code",
      "metadata": {
        "colab": {
          "base_uri": "https://localhost:8080/"
        },
        "id": "pgi_1EV0ArrK",
        "outputId": "504d0aba-5f0f-4c5a-9495-29a1c086f782"
      },
      "source": [
        "df['srv_rerror_rate'].corr(df['rerror_rate'])"
      ],
      "execution_count": 35,
      "outputs": [
        {
          "output_type": "execute_result",
          "data": {
            "text/plain": [
              "0.9947309539818242"
            ]
          },
          "metadata": {
            "tags": []
          },
          "execution_count": 35
        }
      ]
    },
    {
      "cell_type": "code",
      "metadata": {
        "colab": {
          "base_uri": "https://localhost:8080/"
        },
        "id": "z5FTZOrNAuD0",
        "outputId": "77c1e8bb-2dd9-4284-efdd-51e14b2988fa"
      },
      "source": [
        "df['dst_host_same_srv_rate'].corr(df['dst_host_srv_count'])"
      ],
      "execution_count": 36,
      "outputs": [
        {
          "output_type": "execute_result",
          "data": {
            "text/plain": [
              "0.9736854572953835"
            ]
          },
          "metadata": {
            "tags": []
          },
          "execution_count": 36
        }
      ]
    },
    {
      "cell_type": "code",
      "metadata": {
        "colab": {
          "base_uri": "https://localhost:8080/"
        },
        "id": "MM_vIIOzAwLx",
        "outputId": "887ee8a8-b08f-4f02-cf88-9ee9f43d1d81"
      },
      "source": [
        "df['dst_host_srv_serror_rate'].corr(df['dst_host_serror_rate'])"
      ],
      "execution_count": 37,
      "outputs": [
        {
          "output_type": "execute_result",
          "data": {
            "text/plain": [
              "0.9981559173373293"
            ]
          },
          "metadata": {
            "tags": []
          },
          "execution_count": 37
        }
      ]
    },
    {
      "cell_type": "code",
      "metadata": {
        "colab": {
          "base_uri": "https://localhost:8080/"
        },
        "id": "tdnXD965AyDx",
        "outputId": "7a216ea9-31b8-4214-c07e-bcf58971bebc"
      },
      "source": [
        "df['dst_host_srv_rerror_rate'].corr(df['dst_host_rerror_rate'])"
      ],
      "execution_count": 38,
      "outputs": [
        {
          "output_type": "execute_result",
          "data": {
            "text/plain": [
              "0.9848038371110285"
            ]
          },
          "metadata": {
            "tags": []
          },
          "execution_count": 38
        }
      ]
    },
    {
      "cell_type": "code",
      "metadata": {
        "colab": {
          "base_uri": "https://localhost:8080/"
        },
        "id": "NNgrHuhGA0L5",
        "outputId": "ce0877c5-7e81-475d-c510-67bd9059b8bd"
      },
      "source": [
        "df['dst_host_same_srv_rate'].corr(df['same_srv_rate'])"
      ],
      "execution_count": 39,
      "outputs": [
        {
          "output_type": "execute_result",
          "data": {
            "text/plain": [
              "0.9278080342690969"
            ]
          },
          "metadata": {
            "tags": []
          },
          "execution_count": 39
        }
      ]
    },
    {
      "cell_type": "code",
      "metadata": {
        "colab": {
          "base_uri": "https://localhost:8080/"
        },
        "id": "YU--4jBBA3U8",
        "outputId": "384b9258-d5fc-43b3-be35-7d6be3eec547"
      },
      "source": [
        "df['dst_host_srv_count'].corr(df['same_srv_rate'])"
      ],
      "execution_count": 40,
      "outputs": [
        {
          "output_type": "execute_result",
          "data": {
            "text/plain": [
              "0.8989546630323716"
            ]
          },
          "metadata": {
            "tags": []
          },
          "execution_count": 40
        }
      ]
    },
    {
      "cell_type": "code",
      "metadata": {
        "colab": {
          "base_uri": "https://localhost:8080/"
        },
        "id": "VpgxhCuHA5Wz",
        "outputId": "fcf6f7fa-4472-410b-c18c-8501b01d8f7e"
      },
      "source": [
        "df['dst_host_same_src_port_rate'].corr(df['srv_count'])"
      ],
      "execution_count": 41,
      "outputs": [
        {
          "output_type": "execute_result",
          "data": {
            "text/plain": [
              "0.944926367678324"
            ]
          },
          "metadata": {
            "tags": []
          },
          "execution_count": 41
        }
      ]
    },
    {
      "cell_type": "code",
      "metadata": {
        "colab": {
          "base_uri": "https://localhost:8080/"
        },
        "id": "7oqwy5iGA7XT",
        "outputId": "42d37908-6af2-4b93-e185-4023468bac1b"
      },
      "source": [
        "df['dst_host_serror_rate'].corr(df['serror_rate'])"
      ],
      "execution_count": 42,
      "outputs": [
        {
          "output_type": "execute_result",
          "data": {
            "text/plain": [
              "0.9986729680104371"
            ]
          },
          "metadata": {
            "tags": []
          },
          "execution_count": 42
        }
      ]
    },
    {
      "cell_type": "code",
      "metadata": {
        "colab": {
          "base_uri": "https://localhost:8080/"
        },
        "id": "QVqeLqoaA99q",
        "outputId": "9e3a918c-c949-4557-9fdd-f1499583f3a0"
      },
      "source": [
        "df['dst_host_serror_rate'].corr(df['srv_serror_rate'])"
      ],
      "execution_count": 43,
      "outputs": [
        {
          "output_type": "execute_result",
          "data": {
            "text/plain": [
              "0.9978353003739603"
            ]
          },
          "metadata": {
            "tags": []
          },
          "execution_count": 43
        }
      ]
    },
    {
      "cell_type": "code",
      "metadata": {
        "colab": {
          "base_uri": "https://localhost:8080/"
        },
        "id": "97OPqyb-BCcH",
        "outputId": "aca8743e-1f86-4130-91ef-30128f7a86a7"
      },
      "source": [
        "df['dst_host_srv_serror_rate'].corr(df['serror_rate'])"
      ],
      "execution_count": 44,
      "outputs": [
        {
          "output_type": "execute_result",
          "data": {
            "text/plain": [
              "0.997849248567986"
            ]
          },
          "metadata": {
            "tags": []
          },
          "execution_count": 44
        }
      ]
    },
    {
      "cell_type": "code",
      "metadata": {
        "colab": {
          "base_uri": "https://localhost:8080/"
        },
        "id": "LxNvF7LyBJsN",
        "outputId": "1c56d64f-f178-45db-d26e-a4345dc070dc"
      },
      "source": [
        "df['dst_host_srv_serror_rate'].corr(df['srv_serror_rate'])"
      ],
      "execution_count": 45,
      "outputs": [
        {
          "output_type": "execute_result",
          "data": {
            "text/plain": [
              "0.999304109185027"
            ]
          },
          "metadata": {
            "tags": []
          },
          "execution_count": 45
        }
      ]
    },
    {
      "cell_type": "code",
      "metadata": {
        "colab": {
          "base_uri": "https://localhost:8080/"
        },
        "id": "-ESYHJJxBMWH",
        "outputId": "3dfe4474-45cb-423c-e730-43265a6f2c67"
      },
      "source": [
        "df['dst_host_rerror_rate'].corr(df['rerror_rate'])"
      ],
      "execution_count": 46,
      "outputs": [
        {
          "output_type": "execute_result",
          "data": {
            "text/plain": [
              "0.986994792495618"
            ]
          },
          "metadata": {
            "tags": []
          },
          "execution_count": 46
        }
      ]
    },
    {
      "cell_type": "code",
      "metadata": {
        "colab": {
          "base_uri": "https://localhost:8080/"
        },
        "id": "DJLxaJpXBOsw",
        "outputId": "7310a1df-f946-4c85-9a08-3a7bd9d5d73d"
      },
      "source": [
        "\n",
        "df['dst_host_rerror_rate'].corr(df['srv_rerror_rate'])"
      ],
      "execution_count": 47,
      "outputs": [
        {
          "output_type": "execute_result",
          "data": {
            "text/plain": [
              "0.9821663427308264"
            ]
          },
          "metadata": {
            "tags": []
          },
          "execution_count": 47
        }
      ]
    },
    {
      "cell_type": "code",
      "metadata": {
        "colab": {
          "base_uri": "https://localhost:8080/"
        },
        "id": "SWbrhUMwBQDc",
        "outputId": "e9c9d20e-c122-4896-e365-0a246f2506e9"
      },
      "source": [
        "\n",
        "df['dst_host_srv_rerror_rate'].corr(df['rerror_rate'])"
      ],
      "execution_count": 48,
      "outputs": [
        {
          "output_type": "execute_result",
          "data": {
            "text/plain": [
              "0.9851995540751695"
            ]
          },
          "metadata": {
            "tags": []
          },
          "execution_count": 48
        }
      ]
    },
    {
      "cell_type": "code",
      "metadata": {
        "colab": {
          "base_uri": "https://localhost:8080/"
        },
        "id": "tO7FrbqZBR9K",
        "outputId": "1572ccd3-1fa9-4579-e47a-ed6547ce031d"
      },
      "source": [
        "df['dst_host_srv_rerror_rate'].corr(df['srv_rerror_rate'])"
      ],
      "execution_count": 49,
      "outputs": [
        {
          "output_type": "execute_result",
          "data": {
            "text/plain": [
              "0.9865705438845764"
            ]
          },
          "metadata": {
            "tags": []
          },
          "execution_count": 49
        }
      ]
    },
    {
      "cell_type": "code",
      "metadata": {
        "id": "xCugzv7GBZau"
      },
      "source": [
        "df.drop('num_root',axis = 1,inplace = True)\n",
        "\n",
        "#This variable is highly correlated with serror_rate and should be ignored for analysis.\n",
        "#(Correlation = 0.9983615072725952)\n",
        "df.drop('srv_serror_rate',axis = 1,inplace = True)\n",
        "\n",
        "#This variable is highly correlated with rerror_rate and should be ignored for analysis.\n",
        "#(Correlation = 0.9947309539817937)\n",
        "df.drop('srv_rerror_rate',axis = 1, inplace=True)\n",
        "\n",
        "#This variable is highly correlated with srv_serror_rate and should be ignored for analysis.\n",
        "#(Correlation = 0.9993041091850098)\n",
        "df.drop('dst_host_srv_serror_rate',axis = 1, inplace=True)\n",
        "\n",
        "#This variable is highly correlated with rerror_rate and should be ignored for analysis.\n",
        "#(Correlation = 0.9869947924956001)\n",
        "df.drop('dst_host_serror_rate',axis = 1, inplace=True)\n",
        "\n",
        "#This variable is highly correlated with srv_rerror_rate and should be ignored for analysis.\n",
        "#(Correlation = 0.9821663427308375)\n",
        "df.drop('dst_host_rerror_rate',axis = 1, inplace=True)\n",
        "\n",
        "#This variable is highly correlated with rerror_rate and should be ignored for analysis.\n",
        "#(Correlation = 0.9851995540751249)\n",
        "df.drop('dst_host_srv_rerror_rate',axis = 1, inplace=True)\n",
        "\n",
        "#This variable is highly correlated with srv_rerror_rate and should be ignored for analysis.\n",
        "#(Correlation = 0.9865705438845669)\n",
        "df.drop('dst_host_same_srv_rate',axis = 1, inplace=True)"
      ],
      "execution_count": 50,
      "outputs": []
    },
    {
      "cell_type": "code",
      "metadata": {
        "colab": {
          "base_uri": "https://localhost:8080/",
          "height": 231
        },
        "id": "9c0Oi4wNBa_D",
        "outputId": "24b5aed3-587b-4953-ecc9-0bf96556f866"
      },
      "source": [
        "df.head()\n"
      ],
      "execution_count": 51,
      "outputs": [
        {
          "output_type": "execute_result",
          "data": {
            "text/html": [
              "<div>\n",
              "<style scoped>\n",
              "    .dataframe tbody tr th:only-of-type {\n",
              "        vertical-align: middle;\n",
              "    }\n",
              "\n",
              "    .dataframe tbody tr th {\n",
              "        vertical-align: top;\n",
              "    }\n",
              "\n",
              "    .dataframe thead th {\n",
              "        text-align: right;\n",
              "    }\n",
              "</style>\n",
              "<table border=\"1\" class=\"dataframe\">\n",
              "  <thead>\n",
              "    <tr style=\"text-align: right;\">\n",
              "      <th></th>\n",
              "      <th>duration</th>\n",
              "      <th>protocol_type</th>\n",
              "      <th>service</th>\n",
              "      <th>flag</th>\n",
              "      <th>src_bytes</th>\n",
              "      <th>dst_bytes</th>\n",
              "      <th>land</th>\n",
              "      <th>wrong_fragment</th>\n",
              "      <th>urgent</th>\n",
              "      <th>hot</th>\n",
              "      <th>num_failed_logins</th>\n",
              "      <th>logged_in</th>\n",
              "      <th>num_compromised</th>\n",
              "      <th>root_shell</th>\n",
              "      <th>su_attempted</th>\n",
              "      <th>num_file_creations</th>\n",
              "      <th>num_shells</th>\n",
              "      <th>num_access_files</th>\n",
              "      <th>is_guest_login</th>\n",
              "      <th>count</th>\n",
              "      <th>srv_count</th>\n",
              "      <th>serror_rate</th>\n",
              "      <th>rerror_rate</th>\n",
              "      <th>same_srv_rate</th>\n",
              "      <th>diff_srv_rate</th>\n",
              "      <th>srv_diff_host_rate</th>\n",
              "      <th>dst_host_count</th>\n",
              "      <th>dst_host_srv_count</th>\n",
              "      <th>dst_host_diff_srv_rate</th>\n",
              "      <th>dst_host_same_src_port_rate</th>\n",
              "      <th>dst_host_srv_diff_host_rate</th>\n",
              "      <th>target</th>\n",
              "      <th>Attack Type</th>\n",
              "    </tr>\n",
              "  </thead>\n",
              "  <tbody>\n",
              "    <tr>\n",
              "      <th>0</th>\n",
              "      <td>0</td>\n",
              "      <td>tcp</td>\n",
              "      <td>http</td>\n",
              "      <td>SF</td>\n",
              "      <td>181</td>\n",
              "      <td>5450</td>\n",
              "      <td>0</td>\n",
              "      <td>0</td>\n",
              "      <td>0</td>\n",
              "      <td>0</td>\n",
              "      <td>0</td>\n",
              "      <td>1</td>\n",
              "      <td>0</td>\n",
              "      <td>0</td>\n",
              "      <td>0</td>\n",
              "      <td>0</td>\n",
              "      <td>0</td>\n",
              "      <td>0</td>\n",
              "      <td>0</td>\n",
              "      <td>8</td>\n",
              "      <td>8</td>\n",
              "      <td>0.0</td>\n",
              "      <td>0.0</td>\n",
              "      <td>1.0</td>\n",
              "      <td>0.0</td>\n",
              "      <td>0.0</td>\n",
              "      <td>9</td>\n",
              "      <td>9</td>\n",
              "      <td>0.0</td>\n",
              "      <td>0.11</td>\n",
              "      <td>0.0</td>\n",
              "      <td>normal.</td>\n",
              "      <td>normal</td>\n",
              "    </tr>\n",
              "    <tr>\n",
              "      <th>1</th>\n",
              "      <td>0</td>\n",
              "      <td>tcp</td>\n",
              "      <td>http</td>\n",
              "      <td>SF</td>\n",
              "      <td>239</td>\n",
              "      <td>486</td>\n",
              "      <td>0</td>\n",
              "      <td>0</td>\n",
              "      <td>0</td>\n",
              "      <td>0</td>\n",
              "      <td>0</td>\n",
              "      <td>1</td>\n",
              "      <td>0</td>\n",
              "      <td>0</td>\n",
              "      <td>0</td>\n",
              "      <td>0</td>\n",
              "      <td>0</td>\n",
              "      <td>0</td>\n",
              "      <td>0</td>\n",
              "      <td>8</td>\n",
              "      <td>8</td>\n",
              "      <td>0.0</td>\n",
              "      <td>0.0</td>\n",
              "      <td>1.0</td>\n",
              "      <td>0.0</td>\n",
              "      <td>0.0</td>\n",
              "      <td>19</td>\n",
              "      <td>19</td>\n",
              "      <td>0.0</td>\n",
              "      <td>0.05</td>\n",
              "      <td>0.0</td>\n",
              "      <td>normal.</td>\n",
              "      <td>normal</td>\n",
              "    </tr>\n",
              "    <tr>\n",
              "      <th>2</th>\n",
              "      <td>0</td>\n",
              "      <td>tcp</td>\n",
              "      <td>http</td>\n",
              "      <td>SF</td>\n",
              "      <td>235</td>\n",
              "      <td>1337</td>\n",
              "      <td>0</td>\n",
              "      <td>0</td>\n",
              "      <td>0</td>\n",
              "      <td>0</td>\n",
              "      <td>0</td>\n",
              "      <td>1</td>\n",
              "      <td>0</td>\n",
              "      <td>0</td>\n",
              "      <td>0</td>\n",
              "      <td>0</td>\n",
              "      <td>0</td>\n",
              "      <td>0</td>\n",
              "      <td>0</td>\n",
              "      <td>8</td>\n",
              "      <td>8</td>\n",
              "      <td>0.0</td>\n",
              "      <td>0.0</td>\n",
              "      <td>1.0</td>\n",
              "      <td>0.0</td>\n",
              "      <td>0.0</td>\n",
              "      <td>29</td>\n",
              "      <td>29</td>\n",
              "      <td>0.0</td>\n",
              "      <td>0.03</td>\n",
              "      <td>0.0</td>\n",
              "      <td>normal.</td>\n",
              "      <td>normal</td>\n",
              "    </tr>\n",
              "    <tr>\n",
              "      <th>3</th>\n",
              "      <td>0</td>\n",
              "      <td>tcp</td>\n",
              "      <td>http</td>\n",
              "      <td>SF</td>\n",
              "      <td>219</td>\n",
              "      <td>1337</td>\n",
              "      <td>0</td>\n",
              "      <td>0</td>\n",
              "      <td>0</td>\n",
              "      <td>0</td>\n",
              "      <td>0</td>\n",
              "      <td>1</td>\n",
              "      <td>0</td>\n",
              "      <td>0</td>\n",
              "      <td>0</td>\n",
              "      <td>0</td>\n",
              "      <td>0</td>\n",
              "      <td>0</td>\n",
              "      <td>0</td>\n",
              "      <td>6</td>\n",
              "      <td>6</td>\n",
              "      <td>0.0</td>\n",
              "      <td>0.0</td>\n",
              "      <td>1.0</td>\n",
              "      <td>0.0</td>\n",
              "      <td>0.0</td>\n",
              "      <td>39</td>\n",
              "      <td>39</td>\n",
              "      <td>0.0</td>\n",
              "      <td>0.03</td>\n",
              "      <td>0.0</td>\n",
              "      <td>normal.</td>\n",
              "      <td>normal</td>\n",
              "    </tr>\n",
              "    <tr>\n",
              "      <th>4</th>\n",
              "      <td>0</td>\n",
              "      <td>tcp</td>\n",
              "      <td>http</td>\n",
              "      <td>SF</td>\n",
              "      <td>217</td>\n",
              "      <td>2032</td>\n",
              "      <td>0</td>\n",
              "      <td>0</td>\n",
              "      <td>0</td>\n",
              "      <td>0</td>\n",
              "      <td>0</td>\n",
              "      <td>1</td>\n",
              "      <td>0</td>\n",
              "      <td>0</td>\n",
              "      <td>0</td>\n",
              "      <td>0</td>\n",
              "      <td>0</td>\n",
              "      <td>0</td>\n",
              "      <td>0</td>\n",
              "      <td>6</td>\n",
              "      <td>6</td>\n",
              "      <td>0.0</td>\n",
              "      <td>0.0</td>\n",
              "      <td>1.0</td>\n",
              "      <td>0.0</td>\n",
              "      <td>0.0</td>\n",
              "      <td>49</td>\n",
              "      <td>49</td>\n",
              "      <td>0.0</td>\n",
              "      <td>0.02</td>\n",
              "      <td>0.0</td>\n",
              "      <td>normal.</td>\n",
              "      <td>normal</td>\n",
              "    </tr>\n",
              "  </tbody>\n",
              "</table>\n",
              "</div>"
            ],
            "text/plain": [
              "   duration protocol_type  ...   target Attack Type\n",
              "0         0           tcp  ...  normal.      normal\n",
              "1         0           tcp  ...  normal.      normal\n",
              "2         0           tcp  ...  normal.      normal\n",
              "3         0           tcp  ...  normal.      normal\n",
              "4         0           tcp  ...  normal.      normal\n",
              "\n",
              "[5 rows x 33 columns]"
            ]
          },
          "metadata": {
            "tags": []
          },
          "execution_count": 51
        }
      ]
    },
    {
      "cell_type": "code",
      "metadata": {
        "colab": {
          "base_uri": "https://localhost:8080/"
        },
        "id": "O0n_t9EABf3I",
        "outputId": "a8489960-777a-4482-b4f5-8365e8c2ea1f"
      },
      "source": [
        "df.shape"
      ],
      "execution_count": 52,
      "outputs": [
        {
          "output_type": "execute_result",
          "data": {
            "text/plain": [
              "(494021, 33)"
            ]
          },
          "metadata": {
            "tags": []
          },
          "execution_count": 52
        }
      ]
    },
    {
      "cell_type": "code",
      "metadata": {
        "colab": {
          "base_uri": "https://localhost:8080/"
        },
        "id": "Dka38__2BiSo",
        "outputId": "679fdb0f-dc47-404d-c75f-daec8227caa5"
      },
      "source": [
        "df.columns"
      ],
      "execution_count": 53,
      "outputs": [
        {
          "output_type": "execute_result",
          "data": {
            "text/plain": [
              "Index(['duration', 'protocol_type', 'service', 'flag', 'src_bytes',\n",
              "       'dst_bytes', 'land', 'wrong_fragment', 'urgent', 'hot',\n",
              "       'num_failed_logins', 'logged_in', 'num_compromised', 'root_shell',\n",
              "       'su_attempted', 'num_file_creations', 'num_shells', 'num_access_files',\n",
              "       'is_guest_login', 'count', 'srv_count', 'serror_rate', 'rerror_rate',\n",
              "       'same_srv_rate', 'diff_srv_rate', 'srv_diff_host_rate',\n",
              "       'dst_host_count', 'dst_host_srv_count', 'dst_host_diff_srv_rate',\n",
              "       'dst_host_same_src_port_rate', 'dst_host_srv_diff_host_rate', 'target',\n",
              "       'Attack Type'],\n",
              "      dtype='object')"
            ]
          },
          "metadata": {
            "tags": []
          },
          "execution_count": 53
        }
      ]
    },
    {
      "cell_type": "code",
      "metadata": {
        "colab": {
          "base_uri": "https://localhost:8080/"
        },
        "id": "ZeNmptvhBk8k",
        "outputId": "176fc59a-5859-4f07-9f96-b745ae8ebcfa"
      },
      "source": [
        "df_std = df.std()\n",
        "df_std = df_std.sort_values(ascending = True)\n",
        "df_std"
      ],
      "execution_count": 54,
      "outputs": [
        {
          "output_type": "execute_result",
          "data": {
            "text/plain": [
              "urgent                              0.005510\n",
              "land                                0.006673\n",
              "su_attempted                        0.007793\n",
              "root_shell                          0.010551\n",
              "num_shells                          0.011020\n",
              "num_failed_logins                   0.015520\n",
              "num_access_files                    0.036482\n",
              "is_guest_login                      0.037211\n",
              "dst_host_srv_diff_host_rate         0.042133\n",
              "diff_srv_rate                       0.082205\n",
              "num_file_creations                  0.096416\n",
              "dst_host_diff_srv_rate              0.109259\n",
              "wrong_fragment                      0.134805\n",
              "srv_diff_host_rate                  0.142397\n",
              "rerror_rate                         0.231623\n",
              "logged_in                           0.355345\n",
              "serror_rate                         0.380717\n",
              "same_srv_rate                       0.388189\n",
              "dst_host_same_src_port_rate         0.481309\n",
              "hot                                 0.782103\n",
              "num_compromised                     1.798326\n",
              "dst_host_count                     64.745380\n",
              "dst_host_srv_count                106.040437\n",
              "count                             213.147412\n",
              "srv_count                         246.322817\n",
              "duration                          707.746472\n",
              "dst_bytes                       33040.001252\n",
              "src_bytes                      988218.101045\n",
              "dtype: float64"
            ]
          },
          "metadata": {
            "tags": []
          },
          "execution_count": 54
        }
      ]
    },
    {
      "cell_type": "markdown",
      "metadata": {
        "id": "jRXnTgo-PBwj"
      },
      "source": [
        "**FEATURE MAPPING**"
      ]
    },
    {
      "cell_type": "code",
      "metadata": {
        "colab": {
          "base_uri": "https://localhost:8080/"
        },
        "id": "Wra_2mpzBphB",
        "outputId": "fb8366d6-f956-48d2-d4c1-60b77a338bfb"
      },
      "source": [
        "df['protocol_type'].value_counts()"
      ],
      "execution_count": 55,
      "outputs": [
        {
          "output_type": "execute_result",
          "data": {
            "text/plain": [
              "icmp    283602\n",
              "tcp     190065\n",
              "udp      20354\n",
              "Name: protocol_type, dtype: int64"
            ]
          },
          "metadata": {
            "tags": []
          },
          "execution_count": 55
        }
      ]
    },
    {
      "cell_type": "code",
      "metadata": {
        "id": "g6yrPfJFBsZe"
      },
      "source": [
        "\n",
        "#protocol_type feature mapping\n",
        "pmap = {'icmp':0,'tcp':1,'udp':2}\n",
        "df['protocol_type'] = df['protocol_type'].map(pmap)"
      ],
      "execution_count": 56,
      "outputs": []
    },
    {
      "cell_type": "code",
      "metadata": {
        "colab": {
          "base_uri": "https://localhost:8080/"
        },
        "id": "rWQ0fWI8BuVD",
        "outputId": "db1c3e36-7f7b-45ff-f5ce-1384399b3fe5"
      },
      "source": [
        "\n",
        "df['flag'].value_counts()"
      ],
      "execution_count": 57,
      "outputs": [
        {
          "output_type": "execute_result",
          "data": {
            "text/plain": [
              "SF        378440\n",
              "S0         87007\n",
              "REJ        26875\n",
              "RSTR         903\n",
              "RSTO         579\n",
              "SH           107\n",
              "S1            57\n",
              "S2            24\n",
              "RSTOS0        11\n",
              "S3            10\n",
              "OTH            8\n",
              "Name: flag, dtype: int64"
            ]
          },
          "metadata": {
            "tags": []
          },
          "execution_count": 57
        }
      ]
    },
    {
      "cell_type": "code",
      "metadata": {
        "id": "L8yaJ55TBwEo"
      },
      "source": [
        "fmap = {'SF':0,'S0':1,'REJ':2,'RSTR':3,'RSTO':4,'SH':5 ,'S1':6 ,'S2':7,'RSTOS0':8,'S3':9 ,'OTH':10}\n",
        "df['flag'] = df['flag'].map(fmap)"
      ],
      "execution_count": 58,
      "outputs": []
    },
    {
      "cell_type": "code",
      "metadata": {
        "colab": {
          "base_uri": "https://localhost:8080/",
          "height": 231
        },
        "id": "J3fc9cyuBx2C",
        "outputId": "20d55c1d-d32e-4f53-c739-79259ce1ca86"
      },
      "source": [
        "df.head()"
      ],
      "execution_count": 59,
      "outputs": [
        {
          "output_type": "execute_result",
          "data": {
            "text/html": [
              "<div>\n",
              "<style scoped>\n",
              "    .dataframe tbody tr th:only-of-type {\n",
              "        vertical-align: middle;\n",
              "    }\n",
              "\n",
              "    .dataframe tbody tr th {\n",
              "        vertical-align: top;\n",
              "    }\n",
              "\n",
              "    .dataframe thead th {\n",
              "        text-align: right;\n",
              "    }\n",
              "</style>\n",
              "<table border=\"1\" class=\"dataframe\">\n",
              "  <thead>\n",
              "    <tr style=\"text-align: right;\">\n",
              "      <th></th>\n",
              "      <th>duration</th>\n",
              "      <th>protocol_type</th>\n",
              "      <th>service</th>\n",
              "      <th>flag</th>\n",
              "      <th>src_bytes</th>\n",
              "      <th>dst_bytes</th>\n",
              "      <th>land</th>\n",
              "      <th>wrong_fragment</th>\n",
              "      <th>urgent</th>\n",
              "      <th>hot</th>\n",
              "      <th>num_failed_logins</th>\n",
              "      <th>logged_in</th>\n",
              "      <th>num_compromised</th>\n",
              "      <th>root_shell</th>\n",
              "      <th>su_attempted</th>\n",
              "      <th>num_file_creations</th>\n",
              "      <th>num_shells</th>\n",
              "      <th>num_access_files</th>\n",
              "      <th>is_guest_login</th>\n",
              "      <th>count</th>\n",
              "      <th>srv_count</th>\n",
              "      <th>serror_rate</th>\n",
              "      <th>rerror_rate</th>\n",
              "      <th>same_srv_rate</th>\n",
              "      <th>diff_srv_rate</th>\n",
              "      <th>srv_diff_host_rate</th>\n",
              "      <th>dst_host_count</th>\n",
              "      <th>dst_host_srv_count</th>\n",
              "      <th>dst_host_diff_srv_rate</th>\n",
              "      <th>dst_host_same_src_port_rate</th>\n",
              "      <th>dst_host_srv_diff_host_rate</th>\n",
              "      <th>target</th>\n",
              "      <th>Attack Type</th>\n",
              "    </tr>\n",
              "  </thead>\n",
              "  <tbody>\n",
              "    <tr>\n",
              "      <th>0</th>\n",
              "      <td>0</td>\n",
              "      <td>1</td>\n",
              "      <td>http</td>\n",
              "      <td>0</td>\n",
              "      <td>181</td>\n",
              "      <td>5450</td>\n",
              "      <td>0</td>\n",
              "      <td>0</td>\n",
              "      <td>0</td>\n",
              "      <td>0</td>\n",
              "      <td>0</td>\n",
              "      <td>1</td>\n",
              "      <td>0</td>\n",
              "      <td>0</td>\n",
              "      <td>0</td>\n",
              "      <td>0</td>\n",
              "      <td>0</td>\n",
              "      <td>0</td>\n",
              "      <td>0</td>\n",
              "      <td>8</td>\n",
              "      <td>8</td>\n",
              "      <td>0.0</td>\n",
              "      <td>0.0</td>\n",
              "      <td>1.0</td>\n",
              "      <td>0.0</td>\n",
              "      <td>0.0</td>\n",
              "      <td>9</td>\n",
              "      <td>9</td>\n",
              "      <td>0.0</td>\n",
              "      <td>0.11</td>\n",
              "      <td>0.0</td>\n",
              "      <td>normal.</td>\n",
              "      <td>normal</td>\n",
              "    </tr>\n",
              "    <tr>\n",
              "      <th>1</th>\n",
              "      <td>0</td>\n",
              "      <td>1</td>\n",
              "      <td>http</td>\n",
              "      <td>0</td>\n",
              "      <td>239</td>\n",
              "      <td>486</td>\n",
              "      <td>0</td>\n",
              "      <td>0</td>\n",
              "      <td>0</td>\n",
              "      <td>0</td>\n",
              "      <td>0</td>\n",
              "      <td>1</td>\n",
              "      <td>0</td>\n",
              "      <td>0</td>\n",
              "      <td>0</td>\n",
              "      <td>0</td>\n",
              "      <td>0</td>\n",
              "      <td>0</td>\n",
              "      <td>0</td>\n",
              "      <td>8</td>\n",
              "      <td>8</td>\n",
              "      <td>0.0</td>\n",
              "      <td>0.0</td>\n",
              "      <td>1.0</td>\n",
              "      <td>0.0</td>\n",
              "      <td>0.0</td>\n",
              "      <td>19</td>\n",
              "      <td>19</td>\n",
              "      <td>0.0</td>\n",
              "      <td>0.05</td>\n",
              "      <td>0.0</td>\n",
              "      <td>normal.</td>\n",
              "      <td>normal</td>\n",
              "    </tr>\n",
              "    <tr>\n",
              "      <th>2</th>\n",
              "      <td>0</td>\n",
              "      <td>1</td>\n",
              "      <td>http</td>\n",
              "      <td>0</td>\n",
              "      <td>235</td>\n",
              "      <td>1337</td>\n",
              "      <td>0</td>\n",
              "      <td>0</td>\n",
              "      <td>0</td>\n",
              "      <td>0</td>\n",
              "      <td>0</td>\n",
              "      <td>1</td>\n",
              "      <td>0</td>\n",
              "      <td>0</td>\n",
              "      <td>0</td>\n",
              "      <td>0</td>\n",
              "      <td>0</td>\n",
              "      <td>0</td>\n",
              "      <td>0</td>\n",
              "      <td>8</td>\n",
              "      <td>8</td>\n",
              "      <td>0.0</td>\n",
              "      <td>0.0</td>\n",
              "      <td>1.0</td>\n",
              "      <td>0.0</td>\n",
              "      <td>0.0</td>\n",
              "      <td>29</td>\n",
              "      <td>29</td>\n",
              "      <td>0.0</td>\n",
              "      <td>0.03</td>\n",
              "      <td>0.0</td>\n",
              "      <td>normal.</td>\n",
              "      <td>normal</td>\n",
              "    </tr>\n",
              "    <tr>\n",
              "      <th>3</th>\n",
              "      <td>0</td>\n",
              "      <td>1</td>\n",
              "      <td>http</td>\n",
              "      <td>0</td>\n",
              "      <td>219</td>\n",
              "      <td>1337</td>\n",
              "      <td>0</td>\n",
              "      <td>0</td>\n",
              "      <td>0</td>\n",
              "      <td>0</td>\n",
              "      <td>0</td>\n",
              "      <td>1</td>\n",
              "      <td>0</td>\n",
              "      <td>0</td>\n",
              "      <td>0</td>\n",
              "      <td>0</td>\n",
              "      <td>0</td>\n",
              "      <td>0</td>\n",
              "      <td>0</td>\n",
              "      <td>6</td>\n",
              "      <td>6</td>\n",
              "      <td>0.0</td>\n",
              "      <td>0.0</td>\n",
              "      <td>1.0</td>\n",
              "      <td>0.0</td>\n",
              "      <td>0.0</td>\n",
              "      <td>39</td>\n",
              "      <td>39</td>\n",
              "      <td>0.0</td>\n",
              "      <td>0.03</td>\n",
              "      <td>0.0</td>\n",
              "      <td>normal.</td>\n",
              "      <td>normal</td>\n",
              "    </tr>\n",
              "    <tr>\n",
              "      <th>4</th>\n",
              "      <td>0</td>\n",
              "      <td>1</td>\n",
              "      <td>http</td>\n",
              "      <td>0</td>\n",
              "      <td>217</td>\n",
              "      <td>2032</td>\n",
              "      <td>0</td>\n",
              "      <td>0</td>\n",
              "      <td>0</td>\n",
              "      <td>0</td>\n",
              "      <td>0</td>\n",
              "      <td>1</td>\n",
              "      <td>0</td>\n",
              "      <td>0</td>\n",
              "      <td>0</td>\n",
              "      <td>0</td>\n",
              "      <td>0</td>\n",
              "      <td>0</td>\n",
              "      <td>0</td>\n",
              "      <td>6</td>\n",
              "      <td>6</td>\n",
              "      <td>0.0</td>\n",
              "      <td>0.0</td>\n",
              "      <td>1.0</td>\n",
              "      <td>0.0</td>\n",
              "      <td>0.0</td>\n",
              "      <td>49</td>\n",
              "      <td>49</td>\n",
              "      <td>0.0</td>\n",
              "      <td>0.02</td>\n",
              "      <td>0.0</td>\n",
              "      <td>normal.</td>\n",
              "      <td>normal</td>\n",
              "    </tr>\n",
              "  </tbody>\n",
              "</table>\n",
              "</div>"
            ],
            "text/plain": [
              "   duration  protocol_type  ...   target  Attack Type\n",
              "0         0              1  ...  normal.       normal\n",
              "1         0              1  ...  normal.       normal\n",
              "2         0              1  ...  normal.       normal\n",
              "3         0              1  ...  normal.       normal\n",
              "4         0              1  ...  normal.       normal\n",
              "\n",
              "[5 rows x 33 columns]"
            ]
          },
          "metadata": {
            "tags": []
          },
          "execution_count": 59
        }
      ]
    },
    {
      "cell_type": "code",
      "metadata": {
        "id": "h6d7rrngB0-R"
      },
      "source": [
        "df.drop('service',axis = 1,inplace= True)"
      ],
      "execution_count": 60,
      "outputs": []
    },
    {
      "cell_type": "code",
      "metadata": {
        "colab": {
          "base_uri": "https://localhost:8080/"
        },
        "id": "J39ivGjiB224",
        "outputId": "0482f0b2-caff-483c-acaa-e7fd992c1df8"
      },
      "source": [
        "df.shape"
      ],
      "execution_count": 61,
      "outputs": [
        {
          "output_type": "execute_result",
          "data": {
            "text/plain": [
              "(494021, 32)"
            ]
          },
          "metadata": {
            "tags": []
          },
          "execution_count": 61
        }
      ]
    },
    {
      "cell_type": "code",
      "metadata": {
        "colab": {
          "base_uri": "https://localhost:8080/",
          "height": 231
        },
        "id": "HbOYrYbfB4xw",
        "outputId": "30e3a354-09eb-4480-f94c-793ca1da2950"
      },
      "source": [
        "df.head()"
      ],
      "execution_count": 62,
      "outputs": [
        {
          "output_type": "execute_result",
          "data": {
            "text/html": [
              "<div>\n",
              "<style scoped>\n",
              "    .dataframe tbody tr th:only-of-type {\n",
              "        vertical-align: middle;\n",
              "    }\n",
              "\n",
              "    .dataframe tbody tr th {\n",
              "        vertical-align: top;\n",
              "    }\n",
              "\n",
              "    .dataframe thead th {\n",
              "        text-align: right;\n",
              "    }\n",
              "</style>\n",
              "<table border=\"1\" class=\"dataframe\">\n",
              "  <thead>\n",
              "    <tr style=\"text-align: right;\">\n",
              "      <th></th>\n",
              "      <th>duration</th>\n",
              "      <th>protocol_type</th>\n",
              "      <th>flag</th>\n",
              "      <th>src_bytes</th>\n",
              "      <th>dst_bytes</th>\n",
              "      <th>land</th>\n",
              "      <th>wrong_fragment</th>\n",
              "      <th>urgent</th>\n",
              "      <th>hot</th>\n",
              "      <th>num_failed_logins</th>\n",
              "      <th>logged_in</th>\n",
              "      <th>num_compromised</th>\n",
              "      <th>root_shell</th>\n",
              "      <th>su_attempted</th>\n",
              "      <th>num_file_creations</th>\n",
              "      <th>num_shells</th>\n",
              "      <th>num_access_files</th>\n",
              "      <th>is_guest_login</th>\n",
              "      <th>count</th>\n",
              "      <th>srv_count</th>\n",
              "      <th>serror_rate</th>\n",
              "      <th>rerror_rate</th>\n",
              "      <th>same_srv_rate</th>\n",
              "      <th>diff_srv_rate</th>\n",
              "      <th>srv_diff_host_rate</th>\n",
              "      <th>dst_host_count</th>\n",
              "      <th>dst_host_srv_count</th>\n",
              "      <th>dst_host_diff_srv_rate</th>\n",
              "      <th>dst_host_same_src_port_rate</th>\n",
              "      <th>dst_host_srv_diff_host_rate</th>\n",
              "      <th>target</th>\n",
              "      <th>Attack Type</th>\n",
              "    </tr>\n",
              "  </thead>\n",
              "  <tbody>\n",
              "    <tr>\n",
              "      <th>0</th>\n",
              "      <td>0</td>\n",
              "      <td>1</td>\n",
              "      <td>0</td>\n",
              "      <td>181</td>\n",
              "      <td>5450</td>\n",
              "      <td>0</td>\n",
              "      <td>0</td>\n",
              "      <td>0</td>\n",
              "      <td>0</td>\n",
              "      <td>0</td>\n",
              "      <td>1</td>\n",
              "      <td>0</td>\n",
              "      <td>0</td>\n",
              "      <td>0</td>\n",
              "      <td>0</td>\n",
              "      <td>0</td>\n",
              "      <td>0</td>\n",
              "      <td>0</td>\n",
              "      <td>8</td>\n",
              "      <td>8</td>\n",
              "      <td>0.0</td>\n",
              "      <td>0.0</td>\n",
              "      <td>1.0</td>\n",
              "      <td>0.0</td>\n",
              "      <td>0.0</td>\n",
              "      <td>9</td>\n",
              "      <td>9</td>\n",
              "      <td>0.0</td>\n",
              "      <td>0.11</td>\n",
              "      <td>0.0</td>\n",
              "      <td>normal.</td>\n",
              "      <td>normal</td>\n",
              "    </tr>\n",
              "    <tr>\n",
              "      <th>1</th>\n",
              "      <td>0</td>\n",
              "      <td>1</td>\n",
              "      <td>0</td>\n",
              "      <td>239</td>\n",
              "      <td>486</td>\n",
              "      <td>0</td>\n",
              "      <td>0</td>\n",
              "      <td>0</td>\n",
              "      <td>0</td>\n",
              "      <td>0</td>\n",
              "      <td>1</td>\n",
              "      <td>0</td>\n",
              "      <td>0</td>\n",
              "      <td>0</td>\n",
              "      <td>0</td>\n",
              "      <td>0</td>\n",
              "      <td>0</td>\n",
              "      <td>0</td>\n",
              "      <td>8</td>\n",
              "      <td>8</td>\n",
              "      <td>0.0</td>\n",
              "      <td>0.0</td>\n",
              "      <td>1.0</td>\n",
              "      <td>0.0</td>\n",
              "      <td>0.0</td>\n",
              "      <td>19</td>\n",
              "      <td>19</td>\n",
              "      <td>0.0</td>\n",
              "      <td>0.05</td>\n",
              "      <td>0.0</td>\n",
              "      <td>normal.</td>\n",
              "      <td>normal</td>\n",
              "    </tr>\n",
              "    <tr>\n",
              "      <th>2</th>\n",
              "      <td>0</td>\n",
              "      <td>1</td>\n",
              "      <td>0</td>\n",
              "      <td>235</td>\n",
              "      <td>1337</td>\n",
              "      <td>0</td>\n",
              "      <td>0</td>\n",
              "      <td>0</td>\n",
              "      <td>0</td>\n",
              "      <td>0</td>\n",
              "      <td>1</td>\n",
              "      <td>0</td>\n",
              "      <td>0</td>\n",
              "      <td>0</td>\n",
              "      <td>0</td>\n",
              "      <td>0</td>\n",
              "      <td>0</td>\n",
              "      <td>0</td>\n",
              "      <td>8</td>\n",
              "      <td>8</td>\n",
              "      <td>0.0</td>\n",
              "      <td>0.0</td>\n",
              "      <td>1.0</td>\n",
              "      <td>0.0</td>\n",
              "      <td>0.0</td>\n",
              "      <td>29</td>\n",
              "      <td>29</td>\n",
              "      <td>0.0</td>\n",
              "      <td>0.03</td>\n",
              "      <td>0.0</td>\n",
              "      <td>normal.</td>\n",
              "      <td>normal</td>\n",
              "    </tr>\n",
              "    <tr>\n",
              "      <th>3</th>\n",
              "      <td>0</td>\n",
              "      <td>1</td>\n",
              "      <td>0</td>\n",
              "      <td>219</td>\n",
              "      <td>1337</td>\n",
              "      <td>0</td>\n",
              "      <td>0</td>\n",
              "      <td>0</td>\n",
              "      <td>0</td>\n",
              "      <td>0</td>\n",
              "      <td>1</td>\n",
              "      <td>0</td>\n",
              "      <td>0</td>\n",
              "      <td>0</td>\n",
              "      <td>0</td>\n",
              "      <td>0</td>\n",
              "      <td>0</td>\n",
              "      <td>0</td>\n",
              "      <td>6</td>\n",
              "      <td>6</td>\n",
              "      <td>0.0</td>\n",
              "      <td>0.0</td>\n",
              "      <td>1.0</td>\n",
              "      <td>0.0</td>\n",
              "      <td>0.0</td>\n",
              "      <td>39</td>\n",
              "      <td>39</td>\n",
              "      <td>0.0</td>\n",
              "      <td>0.03</td>\n",
              "      <td>0.0</td>\n",
              "      <td>normal.</td>\n",
              "      <td>normal</td>\n",
              "    </tr>\n",
              "    <tr>\n",
              "      <th>4</th>\n",
              "      <td>0</td>\n",
              "      <td>1</td>\n",
              "      <td>0</td>\n",
              "      <td>217</td>\n",
              "      <td>2032</td>\n",
              "      <td>0</td>\n",
              "      <td>0</td>\n",
              "      <td>0</td>\n",
              "      <td>0</td>\n",
              "      <td>0</td>\n",
              "      <td>1</td>\n",
              "      <td>0</td>\n",
              "      <td>0</td>\n",
              "      <td>0</td>\n",
              "      <td>0</td>\n",
              "      <td>0</td>\n",
              "      <td>0</td>\n",
              "      <td>0</td>\n",
              "      <td>6</td>\n",
              "      <td>6</td>\n",
              "      <td>0.0</td>\n",
              "      <td>0.0</td>\n",
              "      <td>1.0</td>\n",
              "      <td>0.0</td>\n",
              "      <td>0.0</td>\n",
              "      <td>49</td>\n",
              "      <td>49</td>\n",
              "      <td>0.0</td>\n",
              "      <td>0.02</td>\n",
              "      <td>0.0</td>\n",
              "      <td>normal.</td>\n",
              "      <td>normal</td>\n",
              "    </tr>\n",
              "  </tbody>\n",
              "</table>\n",
              "</div>"
            ],
            "text/plain": [
              "   duration  protocol_type  ...   target  Attack Type\n",
              "0         0              1  ...  normal.       normal\n",
              "1         0              1  ...  normal.       normal\n",
              "2         0              1  ...  normal.       normal\n",
              "3         0              1  ...  normal.       normal\n",
              "4         0              1  ...  normal.       normal\n",
              "\n",
              "[5 rows x 32 columns]"
            ]
          },
          "metadata": {
            "tags": []
          },
          "execution_count": 62
        }
      ]
    },
    {
      "cell_type": "code",
      "metadata": {
        "colab": {
          "base_uri": "https://localhost:8080/"
        },
        "id": "HGuBO4iHB76s",
        "outputId": "e6272168-076c-4914-f6ca-5df05cd45acd"
      },
      "source": [
        "df.dtypes"
      ],
      "execution_count": 63,
      "outputs": [
        {
          "output_type": "execute_result",
          "data": {
            "text/plain": [
              "duration                         int64\n",
              "protocol_type                    int64\n",
              "flag                             int64\n",
              "src_bytes                        int64\n",
              "dst_bytes                        int64\n",
              "land                             int64\n",
              "wrong_fragment                   int64\n",
              "urgent                           int64\n",
              "hot                              int64\n",
              "num_failed_logins                int64\n",
              "logged_in                        int64\n",
              "num_compromised                  int64\n",
              "root_shell                       int64\n",
              "su_attempted                     int64\n",
              "num_file_creations               int64\n",
              "num_shells                       int64\n",
              "num_access_files                 int64\n",
              "is_guest_login                   int64\n",
              "count                            int64\n",
              "srv_count                        int64\n",
              "serror_rate                    float64\n",
              "rerror_rate                    float64\n",
              "same_srv_rate                  float64\n",
              "diff_srv_rate                  float64\n",
              "srv_diff_host_rate             float64\n",
              "dst_host_count                   int64\n",
              "dst_host_srv_count               int64\n",
              "dst_host_diff_srv_rate         float64\n",
              "dst_host_same_src_port_rate    float64\n",
              "dst_host_srv_diff_host_rate    float64\n",
              "target                          object\n",
              "Attack Type                     object\n",
              "dtype: object"
            ]
          },
          "metadata": {
            "tags": []
          },
          "execution_count": 63
        }
      ]
    },
    {
      "cell_type": "markdown",
      "metadata": {
        "id": "fxAg6IoLPO9m"
      },
      "source": [
        "**MODELLING**"
      ]
    },
    {
      "cell_type": "code",
      "metadata": {
        "id": "mD6K2T_5CA85"
      },
      "source": [
        "from sklearn.model_selection import train_test_split\n",
        "from sklearn.preprocessing import MinMaxScaler\n",
        "from sklearn.metrics import accuracy_score"
      ],
      "execution_count": 64,
      "outputs": []
    },
    {
      "cell_type": "code",
      "metadata": {
        "colab": {
          "base_uri": "https://localhost:8080/"
        },
        "id": "AXs01c1vCDif",
        "outputId": "98e8e5e8-fa40-4d52-876f-809d4ff6a290"
      },
      "source": [
        "df = df.drop(['target',], axis=1)\n",
        "print(df.shape)\n",
        "\n",
        "# Target variable and train set\n",
        "Y = df[['Attack Type']]\n",
        "X = df.drop(['Attack Type',], axis=1)\n",
        "\n",
        "sc = MinMaxScaler()\n",
        "X = sc.fit_transform(X)\n",
        "\n",
        "# Split test and train data \n",
        "X_train, X_test, Y_train, Y_test = train_test_split(X, Y, test_size=0.33, random_state=42)\n",
        "print(X_train.shape, X_test.shape)\n",
        "print(Y_train.shape, Y_test.shape)\n"
      ],
      "execution_count": 65,
      "outputs": [
        {
          "output_type": "stream",
          "text": [
            "(494021, 31)\n",
            "(330994, 30) (163027, 30)\n",
            "(330994, 1) (163027, 1)\n"
          ],
          "name": "stdout"
        }
      ]
    },
    {
      "cell_type": "markdown",
      "metadata": {
        "id": "2jg5EkLqPXml"
      },
      "source": [
        "# **GAUSSIAN NAVIE BAYES**"
      ]
    },
    {
      "cell_type": "code",
      "metadata": {
        "id": "H-pqu_bDCGMu"
      },
      "source": [
        "from sklearn.naive_bayes import GaussianNB"
      ],
      "execution_count": 67,
      "outputs": []
    },
    {
      "cell_type": "code",
      "metadata": {
        "id": "etRMS67lCHmp"
      },
      "source": [
        "model1 = GaussianNB()"
      ],
      "execution_count": 68,
      "outputs": []
    },
    {
      "cell_type": "code",
      "metadata": {
        "id": "nNuRYyghCLCX"
      },
      "source": [
        "start_time = time.time()\n",
        "model1.fit(X_train, Y_train.values.ravel())\n",
        "end_time = time.time()"
      ],
      "execution_count": 75,
      "outputs": []
    },
    {
      "cell_type": "code",
      "metadata": {
        "colab": {
          "base_uri": "https://localhost:8080/"
        },
        "id": "F5g4y2ZICNxO",
        "outputId": "aaa516d5-4048-4531-9f10-bde100f0f890"
      },
      "source": [
        "print(\"Training time: \",end_time-start_time)"
      ],
      "execution_count": 76,
      "outputs": [
        {
          "output_type": "stream",
          "text": [
            "Training time:  0.584160566329956\n"
          ],
          "name": "stdout"
        }
      ]
    },
    {
      "cell_type": "code",
      "metadata": {
        "id": "BKyS4P_4CQlS"
      },
      "source": [
        "\n",
        "start_time = time.time()\n",
        "Y_test_pred1 = model1.predict(X_test)\n",
        "end_time = time.time()"
      ],
      "execution_count": 80,
      "outputs": []
    },
    {
      "cell_type": "code",
      "metadata": {
        "colab": {
          "base_uri": "https://localhost:8080/"
        },
        "id": "XJga_y0oCmj0",
        "outputId": "50492bc4-971b-4d46-9b7d-f64b9cddc193"
      },
      "source": [
        "print(\"Testing time: \",end_time-start_time)"
      ],
      "execution_count": 81,
      "outputs": [
        {
          "output_type": "stream",
          "text": [
            "Testing time:  0.2106480598449707\n"
          ],
          "name": "stdout"
        }
      ]
    },
    {
      "cell_type": "code",
      "metadata": {
        "colab": {
          "base_uri": "https://localhost:8080/"
        },
        "id": "9cfButVECqsF",
        "outputId": "e248dc5d-056f-4202-e290-4bc58e5f7691"
      },
      "source": [
        "\n",
        "print(\"Train score is:\", model1.score(X_train, Y_train))\n",
        "print(\"Test score is:\",model1.score(X_test,Y_test))"
      ],
      "execution_count": 82,
      "outputs": [
        {
          "output_type": "stream",
          "text": [
            "Train score is: 0.8795114110829804\n",
            "Test score is: 0.8790384414851528\n"
          ],
          "name": "stdout"
        }
      ]
    },
    {
      "cell_type": "markdown",
      "metadata": {
        "id": "9s8WdCh9Pvri"
      },
      "source": [
        "# **DECISION TREE**"
      ]
    },
    {
      "cell_type": "code",
      "metadata": {
        "id": "7H4faZ1ZCtQj"
      },
      "source": [
        "from sklearn.tree import DecisionTreeClassifier"
      ],
      "execution_count": 83,
      "outputs": []
    },
    {
      "cell_type": "code",
      "metadata": {
        "id": "FbclbrPcCwSS"
      },
      "source": [
        "model2 = DecisionTreeClassifier(criterion=\"entropy\", max_depth = 4)"
      ],
      "execution_count": 84,
      "outputs": []
    },
    {
      "cell_type": "code",
      "metadata": {
        "id": "6libWqOQCyiY"
      },
      "source": [
        "start_time = time.time()\n",
        "model2.fit(X_train, Y_train.values.ravel())\n",
        "end_time = time.time()"
      ],
      "execution_count": 85,
      "outputs": []
    },
    {
      "cell_type": "code",
      "metadata": {
        "colab": {
          "base_uri": "https://localhost:8080/"
        },
        "id": "mN-m6dlKC0ZO",
        "outputId": "f2ab5e9b-c00a-4f53-d8b7-2137dac199bb"
      },
      "source": [
        "print(\"Training time: \",end_time-start_time)"
      ],
      "execution_count": 87,
      "outputs": [
        {
          "output_type": "stream",
          "text": [
            "Training time:  0.9958639144897461\n"
          ],
          "name": "stdout"
        }
      ]
    },
    {
      "cell_type": "code",
      "metadata": {
        "id": "baugLCS4C2Bi"
      },
      "source": [
        "start_time = time.time()\n",
        "Y_test_pred2 = model2.predict(X_test)\n",
        "end_time = time.time()"
      ],
      "execution_count": 88,
      "outputs": []
    },
    {
      "cell_type": "code",
      "metadata": {
        "colab": {
          "base_uri": "https://localhost:8080/"
        },
        "id": "pBvFX0WzC4XM",
        "outputId": "9df5135f-8e94-4b68-af92-6e655d7a5b9c"
      },
      "source": [
        "print(\"Testing time: \",end_time-start_time)"
      ],
      "execution_count": 90,
      "outputs": [
        {
          "output_type": "stream",
          "text": [
            "Testing time:  0.025219440460205078\n"
          ],
          "name": "stdout"
        }
      ]
    },
    {
      "cell_type": "code",
      "metadata": {
        "colab": {
          "base_uri": "https://localhost:8080/"
        },
        "id": "_G0fsKuiC6BT",
        "outputId": "72ecf113-93cf-451f-f10d-619b9344c8cc"
      },
      "source": [
        "\n",
        "print(\"Train score is:\", model2.score(X_train, Y_train))\n",
        "print(\"Test score is:\",model2.score(X_test,Y_test))"
      ],
      "execution_count": 91,
      "outputs": [
        {
          "output_type": "stream",
          "text": [
            "Train score is: 0.9905829108684749\n",
            "Test score is: 0.9905230421954646\n"
          ],
          "name": "stdout"
        }
      ]
    },
    {
      "cell_type": "markdown",
      "metadata": {
        "id": "UiQn2XvvP73s"
      },
      "source": [
        "# **RANDOM FOREST**"
      ]
    },
    {
      "cell_type": "code",
      "metadata": {
        "id": "VAL_QGOLC-pw"
      },
      "source": [
        "from sklearn.ensemble import RandomForestClassifier"
      ],
      "execution_count": 92,
      "outputs": []
    },
    {
      "cell_type": "code",
      "metadata": {
        "id": "U88O0TJTDA6a"
      },
      "source": [
        "model3 = RandomForestClassifier(n_estimators=30)"
      ],
      "execution_count": 93,
      "outputs": []
    },
    {
      "cell_type": "code",
      "metadata": {
        "id": "0nOOK6hiDC2S"
      },
      "source": [
        "\n",
        "start_time = time.time()\n",
        "model3.fit(X_train, Y_train.values.ravel())\n",
        "end_time = time.time()"
      ],
      "execution_count": 94,
      "outputs": []
    },
    {
      "cell_type": "code",
      "metadata": {
        "colab": {
          "base_uri": "https://localhost:8080/"
        },
        "id": "U9yvwU5mDFPx",
        "outputId": "f8ef4dc6-76dd-48c3-f3ca-e748c2cf364b"
      },
      "source": [
        "print(\"Training time: \",end_time-start_time)"
      ],
      "execution_count": 95,
      "outputs": [
        {
          "output_type": "stream",
          "text": [
            "Training time:  8.183368921279907\n"
          ],
          "name": "stdout"
        }
      ]
    },
    {
      "cell_type": "code",
      "metadata": {
        "id": "fKUI70vzDIJ8"
      },
      "source": [
        "\n",
        "start_time = time.time()\n",
        "Y_test_pred3 = model3.predict(X_test)\n",
        "end_time = time.time()"
      ],
      "execution_count": 96,
      "outputs": []
    },
    {
      "cell_type": "code",
      "metadata": {
        "colab": {
          "base_uri": "https://localhost:8080/"
        },
        "id": "MP4FdfArDKhv",
        "outputId": "c3c8a921-e045-47d4-8232-e002115a55e9"
      },
      "source": [
        "print(\"Testing time: \",end_time-start_time)"
      ],
      "execution_count": 97,
      "outputs": [
        {
          "output_type": "stream",
          "text": [
            "Testing time:  0.5135247707366943\n"
          ],
          "name": "stdout"
        }
      ]
    },
    {
      "cell_type": "code",
      "metadata": {
        "colab": {
          "base_uri": "https://localhost:8080/"
        },
        "id": "oLVVevSzDMWf",
        "outputId": "ea17cc8f-df72-454a-e346-5b5eb28bdb0c"
      },
      "source": [
        "print(\"Train score is:\", model3.score(X_train, Y_train))\n",
        "print(\"Test score is:\",model3.score(X_test,Y_test))"
      ],
      "execution_count": 98,
      "outputs": [
        {
          "output_type": "stream",
          "text": [
            "Train score is: 0.99997583037759\n",
            "Test score is: 0.9996442307102504\n"
          ],
          "name": "stdout"
        }
      ]
    },
    {
      "cell_type": "markdown",
      "metadata": {
        "id": "radUh0y3QLQ5"
      },
      "source": [
        "# **SUPPORT VECTOR MACHINE**"
      ]
    },
    {
      "cell_type": "code",
      "metadata": {
        "id": "S7bO7BKaDQ-5"
      },
      "source": [
        "from sklearn.svm import SVC"
      ],
      "execution_count": 105,
      "outputs": []
    },
    {
      "cell_type": "code",
      "metadata": {
        "id": "g6hH_LUdDStS"
      },
      "source": [
        "model4 = SVC(gamma = 'scale')"
      ],
      "execution_count": 106,
      "outputs": []
    },
    {
      "cell_type": "code",
      "metadata": {
        "id": "uwV8vYznRQwF"
      },
      "source": [
        "start_time = time.time()\n",
        "model4.fit(X_train, Y_train.values.ravel())\n",
        "end_time = time.time()"
      ],
      "execution_count": 107,
      "outputs": []
    },
    {
      "cell_type": "code",
      "metadata": {
        "colab": {
          "base_uri": "https://localhost:8080/"
        },
        "id": "e9YzodKAE3x1",
        "outputId": "f698bb2e-e66a-4ba1-c350-d170dc86a040"
      },
      "source": [
        "print(\"Training time: \",end_time-start_time)"
      ],
      "execution_count": 108,
      "outputs": [
        {
          "output_type": "stream",
          "text": [
            "Training time:  145.15530967712402\n"
          ],
          "name": "stdout"
        }
      ]
    },
    {
      "cell_type": "code",
      "metadata": {
        "id": "OFc-qoVcE5a8"
      },
      "source": [
        "start_time = time.time()\n",
        "Y_test_pred4 = model4.predict(X_test)\n",
        "end_time = time.time()"
      ],
      "execution_count": 111,
      "outputs": []
    },
    {
      "cell_type": "code",
      "metadata": {
        "colab": {
          "base_uri": "https://localhost:8080/"
        },
        "id": "dhtmauw3Suvv",
        "outputId": "53a368e9-c61c-4d1f-abe8-c8f97792f661"
      },
      "source": [
        "print(\"Testing time: \",end_time-start_time)"
      ],
      "execution_count": 115,
      "outputs": [
        {
          "output_type": "stream",
          "text": [
            "Testing time:  39.901406049728394\n"
          ],
          "name": "stdout"
        }
      ]
    },
    {
      "cell_type": "code",
      "metadata": {
        "colab": {
          "base_uri": "https://localhost:8080/"
        },
        "id": "qzYvbpYkT3NO",
        "outputId": "63081174-1761-4cfc-fded-1afddbc49ae1"
      },
      "source": [
        "print(\"Train score is:\", model4.score(X_train, Y_train))\n",
        "print(\"Test score is:\", model4.score(X_test,Y_test))"
      ],
      "execution_count": 117,
      "outputs": [
        {
          "output_type": "stream",
          "text": [
            "Train score is: 0.9987552644458811\n",
            "Test score is: 0.9987916112055059\n"
          ],
          "name": "stdout"
        }
      ]
    },
    {
      "cell_type": "markdown",
      "metadata": {
        "id": "5UIzyhFMTFY4"
      },
      "source": [
        "# **LOGISTIC REGRESSION**"
      ]
    },
    {
      "cell_type": "code",
      "metadata": {
        "id": "P5CT_QI9GB0d"
      },
      "source": [
        "from sklearn.linear_model import LogisticRegression"
      ],
      "execution_count": 118,
      "outputs": []
    },
    {
      "cell_type": "code",
      "metadata": {
        "id": "BdFr_mXRGFmH"
      },
      "source": [
        "model5 = LogisticRegression(max_iter=1200000)"
      ],
      "execution_count": 119,
      "outputs": []
    },
    {
      "cell_type": "code",
      "metadata": {
        "id": "09rWxGeSGhZc"
      },
      "source": [
        "start_time = time.time()\n",
        "model5.fit(X_train, Y_train.values.ravel())\n",
        "end_time = time.time()"
      ],
      "execution_count": 120,
      "outputs": []
    },
    {
      "cell_type": "code",
      "metadata": {
        "colab": {
          "base_uri": "https://localhost:8080/"
        },
        "id": "UfOlIM6rGlKB",
        "outputId": "fc505ba6-d211-49c2-b488-7a73eca5ffa2"
      },
      "source": [
        "print(\"Testing time: \",end_time-start_time)"
      ],
      "execution_count": 121,
      "outputs": [
        {
          "output_type": "stream",
          "text": [
            "Testing time:  73.79696893692017\n"
          ],
          "name": "stdout"
        }
      ]
    },
    {
      "cell_type": "code",
      "metadata": {
        "colab": {
          "base_uri": "https://localhost:8080/"
        },
        "id": "SF8RDA-rGosF",
        "outputId": "273bef0b-8476-492b-96db-829f0c3c64b2"
      },
      "source": [
        "print(\"Train score is:\", model5.score(X_train, Y_train))\n",
        "print(\"Test score is:\",model5.score(X_test,Y_test))"
      ],
      "execution_count": 122,
      "outputs": [
        {
          "output_type": "stream",
          "text": [
            "Train score is: 0.9935285835997028\n",
            "Test score is: 0.9935286792985211\n"
          ],
          "name": "stdout"
        }
      ]
    },
    {
      "cell_type": "markdown",
      "metadata": {
        "id": "_Fx60dM3VsyP"
      },
      "source": [
        "**TRANING ACCURACY**"
      ]
    },
    {
      "cell_type": "code",
      "metadata": {
        "colab": {
          "base_uri": "https://localhost:8080/",
          "height": 338
        },
        "id": "qsbZkeYeIRv2",
        "outputId": "b18d5e2c-708a-40f7-f14e-d994055093ee"
      },
      "source": [
        "names = ['NaviesBaies','DesiconTree','RandomForest','SVM','LogisticRegression']\n",
        "values = [87.951,99.058,99.997,99.875,99.352]\n",
        "f = plt.figure(figsize=(30,5),num=10)\n",
        "plt.subplot(131)\n",
        "plt.bar(names,values,color=['red', 'black', 'orange', 'pink', 'lavender'])"
      ],
      "execution_count": 146,
      "outputs": [
        {
          "output_type": "execute_result",
          "data": {
            "text/plain": [
              "<BarContainer object of 5 artists>"
            ]
          },
          "metadata": {
            "tags": []
          },
          "execution_count": 146
        },
        {
          "output_type": "display_data",
          "data": {
            "image/png": "[encoded data removed]",
            "text/plain": [
              "<Figure size 2160x360 with 1 Axes>"
            ]
          },
          "metadata": {
            "tags": [],
            "needs_background": "light"
          }
        }
      ]
    },
    {
      "cell_type": "code",
      "metadata": {
        "id": "TWJMsF_HInBn"
      },
      "source": [
        "f.savefig('test_accuracy_figure.png',bbox_inches='tight')"
      ],
      "execution_count": null,
      "outputs": []
    },
    {
      "cell_type": "markdown",
      "metadata": {
        "id": "9pJPQ-cUeSvC"
      },
      "source": [
        "**TESTING ACCURACY**"
      ]
    },
    {
      "cell_type": "code",
      "metadata": {
        "colab": {
          "base_uri": "https://localhost:8080/",
          "height": 338
        },
        "id": "apXQ8H0yIs1n",
        "outputId": "2be7f1f9-5d49-4776-eebf-164e4f1d93b9"
      },
      "source": [
        "names = ['NaviesBaies','DesiconTree','RandomForest','SVM','LogisticRegression']\n",
        "values = [87.903,99.052,99.969,99.879,99.352]\n",
        "f = plt.figure(figsize=(30,5),num=10)\n",
        "plt.subplot(131)\n",
        "plt.bar(names,values,color=['red', 'black', 'orange', 'pink', 'lavender'])"
      ],
      "execution_count": 147,
      "outputs": [
        {
          "output_type": "execute_result",
          "data": {
            "text/plain": [
              "<BarContainer object of 5 artists>"
            ]
          },
          "metadata": {
            "tags": []
          },
          "execution_count": 147
        },
        {
          "output_type": "display_data",
          "data": {
            "image/png": "[encoded data removed]",
            "text/plain": [
              "<Figure size 2160x360 with 1 Axes>"
            ]
          },
          "metadata": {
            "tags": [],
            "needs_background": "light"
          }
        }
      ]
    },
    {
      "cell_type": "code",
      "metadata": {
        "id": "JnQL4QgPI9xC"
      },
      "source": [
        "f.savefig('train_time_figure.png',bbox_inches='tight')"
      ],
      "execution_count": null,
      "outputs": []
    },
    {
      "cell_type": "markdown",
      "metadata": {
        "id": "Dj-PKPsFezpP"
      },
      "source": [
        "**TRANINIG TIME**"
      ]
    },
    {
      "cell_type": "code",
      "metadata": {
        "colab": {
          "base_uri": "https://localhost:8080/",
          "height": 338
        },
        "id": "vst0robcJAE-",
        "outputId": "e12ca28a-d503-4f7f-b76a-d282ca5f34d3"
      },
      "source": [
        "names =['NaviesBaies','DesiconTree','RandomForest','SVM','LogisticRegression']\n",
        "values = [1.04721,1.50483,11.45332,126.96016,56.67286]\n",
        "f = plt.figure(figsize=(30,5),num=10)\n",
        "plt.subplot(131)\n",
        "plt.bar(names,values,color=['red', 'black', 'orange', 'pink', 'lavender'])"
      ],
      "execution_count": 148,
      "outputs": [
        {
          "output_type": "execute_result",
          "data": {
            "text/plain": [
              "<BarContainer object of 5 artists>"
            ]
          },
          "metadata": {
            "tags": []
          },
          "execution_count": 148
        },
        {
          "output_type": "display_data",
          "data": {
            "image/png": "[encoded data removed]",
            "text/plain": [
              "<Figure size 2160x360 with 1 Axes>"
            ]
          },
          "metadata": {
            "tags": [],
            "needs_background": "light"
          }
        }
      ]
    },
    {
      "cell_type": "code",
      "metadata": {
        "id": "lT4INAttJQF1"
      },
      "source": [
        "f.savefig('test_time_figure.png',bbox_inches='tight')"
      ],
      "execution_count": null,
      "outputs": []
    },
    {
      "cell_type": "markdown",
      "metadata": {
        "id": "1A164wOIe3eu"
      },
      "source": [
        "**TESTING TIME**"
      ]
    },
    {
      "cell_type": "code",
      "metadata": {
        "colab": {
          "base_uri": "https://localhost:8080/",
          "height": 342
        },
        "id": "3db9pPBte55c",
        "outputId": "11f6333b-b408-4c7a-f93e-8acf5cd3bda3"
      },
      "source": [
        "names = ['NaviesBaies','DesiconTree','RandomForest','SVM','LogisticRegression']\n",
        "values = [0.79089,0.10471,0.60961,32.72654,0.02198]\n",
        "f = plt.figure(figsize=(30,5),num=10)\n",
        "plt.subplot(131)\n",
        "plt.ylim(0,50)\n",
        "plt.bar(names,values,color=['red', 'black', 'orange', 'pink', 'lavender'])"
      ],
      "execution_count": 154,
      "outputs": [
        {
          "output_type": "execute_result",
          "data": {
            "text/plain": [
              "<BarContainer object of 5 artists>"
            ]
          },
          "metadata": {
            "tags": []
          },
          "execution_count": 154
        },
        {
          "output_type": "display_data",
          "data": {
            "image/png": "[encoded data removed]",
            "text/plain": [
              "<Figure size 2160x360 with 1 Axes>"
            ]
          },
          "metadata": {
            "tags": [],
            "needs_background": "light"
          }
        }
      ]
    }
  ]
}